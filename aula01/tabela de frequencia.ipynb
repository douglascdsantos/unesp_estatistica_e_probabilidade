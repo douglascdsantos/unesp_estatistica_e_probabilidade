{
  "nbformat": 4,
  "nbformat_minor": 0,
  "metadata": {
    "colab": {
      "name": "aula 1.ipynb",
      "provenance": [],
      "authorship_tag": "ABX9TyPFMpyIRf6z81y6z+PKse5K",
      "include_colab_link": true
    },
    "kernelspec": {
      "name": "python3",
      "display_name": "Python 3"
    },
    "language_info": {
      "name": "python"
    }
  },
  "cells": [
    {
      "cell_type": "markdown",
      "metadata": {
        "id": "view-in-github",
        "colab_type": "text"
      },
      "source": [
        "<a href=\"https://colab.research.google.com/github/douglascdsantos/unesp_estatistica_e_probabilidade/blob/main/aula01/tabela%20de%20frequencia.ipynb\" target=\"_parent\"><img src=\"https://colab.research.google.com/assets/colab-badge.svg\" alt=\"Open In Colab\"/></a>"
      ]
    },
    {
      "cell_type": "code",
      "metadata": {
        "id": "-1SfwnfnCDO-"
      },
      "source": [
        "# importanto os pacotes necessários\n",
        "import pandas as pd\n",
        "import seaborn as sns"
      ],
      "execution_count": 95,
      "outputs": []
    },
    {
      "cell_type": "markdown",
      "metadata": {
        "id": "_Isl2J3erduD"
      },
      "source": [
        "# Dicionario de variáveis\n",
        "- `Id` - identificação do aluno;\n",
        "- `Turma` - turma do aluno (A ou B);\n",
        "- `Sexo` - F se feminino, M se masculino;\n",
        "- `Idade` - idade em anos;\n",
        "- `Alt` - altura em metros;\n",
        "- `Peso` - peso em quilogramas;\n",
        "- `Filhos` - número de filhos na família;\n",
        "- `Fuma` - tem hábito de fumar (sim ou não);\n",
        "- `Toler` - tolerância ao cigarro (I para indiferente, P para incomonda pouco e M para incomonda muito)."
      ]
    },
    {
      "cell_type": "code",
      "metadata": {
        "colab": {
          "base_uri": "https://localhost:8080/",
          "height": 235
        },
        "id": "9ONB139UCE90",
        "outputId": "d296d4f5-500b-4548-8ad2-af90cc7ca851"
      },
      "source": [
        "# importação da planilha disponivel no github\n",
        "planilha = pd.read_excel('https://github.com/douglascdsantos/unesp_estatistica_e_probabilidade/blob/main/aula01/dados_Aula_01.xlsx?raw=true', index_col='Id')\n",
        "planilha.head()"
      ],
      "execution_count": 96,
      "outputs": [
        {
          "output_type": "execute_result",
          "data": {
            "text/html": [
              "<div>\n",
              "<style scoped>\n",
              "    .dataframe tbody tr th:only-of-type {\n",
              "        vertical-align: middle;\n",
              "    }\n",
              "\n",
              "    .dataframe tbody tr th {\n",
              "        vertical-align: top;\n",
              "    }\n",
              "\n",
              "    .dataframe thead th {\n",
              "        text-align: right;\n",
              "    }\n",
              "</style>\n",
              "<table border=\"1\" class=\"dataframe\">\n",
              "  <thead>\n",
              "    <tr style=\"text-align: right;\">\n",
              "      <th></th>\n",
              "      <th>Turma</th>\n",
              "      <th>Sexo</th>\n",
              "      <th>Idade</th>\n",
              "      <th>Alt</th>\n",
              "      <th>Peso</th>\n",
              "      <th>Filhos</th>\n",
              "      <th>Fuma</th>\n",
              "      <th>Toler</th>\n",
              "    </tr>\n",
              "    <tr>\n",
              "      <th>Id</th>\n",
              "      <th></th>\n",
              "      <th></th>\n",
              "      <th></th>\n",
              "      <th></th>\n",
              "      <th></th>\n",
              "      <th></th>\n",
              "      <th></th>\n",
              "      <th></th>\n",
              "    </tr>\n",
              "  </thead>\n",
              "  <tbody>\n",
              "    <tr>\n",
              "      <th>1</th>\n",
              "      <td>A</td>\n",
              "      <td>F</td>\n",
              "      <td>17</td>\n",
              "      <td>1.60</td>\n",
              "      <td>60.5</td>\n",
              "      <td>2</td>\n",
              "      <td>NAO</td>\n",
              "      <td>P</td>\n",
              "    </tr>\n",
              "    <tr>\n",
              "      <th>2</th>\n",
              "      <td>A</td>\n",
              "      <td>F</td>\n",
              "      <td>18</td>\n",
              "      <td>1.69</td>\n",
              "      <td>55.0</td>\n",
              "      <td>1</td>\n",
              "      <td>NAO</td>\n",
              "      <td>M</td>\n",
              "    </tr>\n",
              "    <tr>\n",
              "      <th>3</th>\n",
              "      <td>A</td>\n",
              "      <td>M</td>\n",
              "      <td>18</td>\n",
              "      <td>1.85</td>\n",
              "      <td>72.8</td>\n",
              "      <td>2</td>\n",
              "      <td>NAO</td>\n",
              "      <td>P</td>\n",
              "    </tr>\n",
              "    <tr>\n",
              "      <th>4</th>\n",
              "      <td>A</td>\n",
              "      <td>M</td>\n",
              "      <td>25</td>\n",
              "      <td>1.85</td>\n",
              "      <td>80.9</td>\n",
              "      <td>2</td>\n",
              "      <td>NAO</td>\n",
              "      <td>P</td>\n",
              "    </tr>\n",
              "    <tr>\n",
              "      <th>5</th>\n",
              "      <td>A</td>\n",
              "      <td>F</td>\n",
              "      <td>19</td>\n",
              "      <td>1.58</td>\n",
              "      <td>55.0</td>\n",
              "      <td>1</td>\n",
              "      <td>NAO</td>\n",
              "      <td>M</td>\n",
              "    </tr>\n",
              "  </tbody>\n",
              "</table>\n",
              "</div>"
            ],
            "text/plain": [
              "   Turma Sexo  Idade   Alt  Peso  Filhos Fuma Toler\n",
              "Id                                                 \n",
              "1      A    F     17  1.60  60.5       2  NAO     P\n",
              "2      A    F     18  1.69  55.0       1  NAO     M\n",
              "3      A    M     18  1.85  72.8       2  NAO     P\n",
              "4      A    M     25  1.85  80.9       2  NAO     P\n",
              "5      A    F     19  1.58  55.0       1  NAO     M"
            ]
          },
          "metadata": {},
          "execution_count": 96
        }
      ]
    },
    {
      "cell_type": "code",
      "metadata": {
        "id": "WsmNoFLysaYr",
        "outputId": "54175545-7bfb-4476-8045-fe726c69f52c",
        "colab": {
          "base_uri": "https://localhost:8080/",
          "height": 297
        }
      },
      "source": [
        "# resumo estatístico das variáveis númericas\n",
        "planilha.describe()"
      ],
      "execution_count": 97,
      "outputs": [
        {
          "output_type": "execute_result",
          "data": {
            "text/html": [
              "<div>\n",
              "<style scoped>\n",
              "    .dataframe tbody tr th:only-of-type {\n",
              "        vertical-align: middle;\n",
              "    }\n",
              "\n",
              "    .dataframe tbody tr th {\n",
              "        vertical-align: top;\n",
              "    }\n",
              "\n",
              "    .dataframe thead th {\n",
              "        text-align: right;\n",
              "    }\n",
              "</style>\n",
              "<table border=\"1\" class=\"dataframe\">\n",
              "  <thead>\n",
              "    <tr style=\"text-align: right;\">\n",
              "      <th></th>\n",
              "      <th>Idade</th>\n",
              "      <th>Alt</th>\n",
              "      <th>Peso</th>\n",
              "      <th>Filhos</th>\n",
              "    </tr>\n",
              "  </thead>\n",
              "  <tbody>\n",
              "    <tr>\n",
              "      <th>count</th>\n",
              "      <td>50.000000</td>\n",
              "      <td>50.000000</td>\n",
              "      <td>50.000000</td>\n",
              "      <td>50.000000</td>\n",
              "    </tr>\n",
              "    <tr>\n",
              "      <th>mean</th>\n",
              "      <td>18.900000</td>\n",
              "      <td>1.672000</td>\n",
              "      <td>60.928000</td>\n",
              "      <td>1.700000</td>\n",
              "    </tr>\n",
              "    <tr>\n",
              "      <th>std</th>\n",
              "      <td>2.032893</td>\n",
              "      <td>0.090599</td>\n",
              "      <td>12.179089</td>\n",
              "      <td>1.092647</td>\n",
              "    </tr>\n",
              "    <tr>\n",
              "      <th>min</th>\n",
              "      <td>17.000000</td>\n",
              "      <td>1.450000</td>\n",
              "      <td>44.000000</td>\n",
              "      <td>1.000000</td>\n",
              "    </tr>\n",
              "    <tr>\n",
              "      <th>25%</th>\n",
              "      <td>18.000000</td>\n",
              "      <td>1.602500</td>\n",
              "      <td>52.125000</td>\n",
              "      <td>1.000000</td>\n",
              "    </tr>\n",
              "    <tr>\n",
              "      <th>50%</th>\n",
              "      <td>18.000000</td>\n",
              "      <td>1.665000</td>\n",
              "      <td>58.000000</td>\n",
              "      <td>1.000000</td>\n",
              "    </tr>\n",
              "    <tr>\n",
              "      <th>75%</th>\n",
              "      <td>19.000000</td>\n",
              "      <td>1.717500</td>\n",
              "      <td>67.875000</td>\n",
              "      <td>2.000000</td>\n",
              "    </tr>\n",
              "    <tr>\n",
              "      <th>max</th>\n",
              "      <td>25.000000</td>\n",
              "      <td>1.850000</td>\n",
              "      <td>95.000000</td>\n",
              "      <td>7.000000</td>\n",
              "    </tr>\n",
              "  </tbody>\n",
              "</table>\n",
              "</div>"
            ],
            "text/plain": [
              "           Idade        Alt       Peso     Filhos\n",
              "count  50.000000  50.000000  50.000000  50.000000\n",
              "mean   18.900000   1.672000  60.928000   1.700000\n",
              "std     2.032893   0.090599  12.179089   1.092647\n",
              "min    17.000000   1.450000  44.000000   1.000000\n",
              "25%    18.000000   1.602500  52.125000   1.000000\n",
              "50%    18.000000   1.665000  58.000000   1.000000\n",
              "75%    19.000000   1.717500  67.875000   2.000000\n",
              "max    25.000000   1.850000  95.000000   7.000000"
            ]
          },
          "metadata": {},
          "execution_count": 97
        }
      ]
    },
    {
      "cell_type": "markdown",
      "metadata": {
        "id": "bMkBs71wOCPd"
      },
      "source": [
        "# Tabela de Frequência e Frequência relativa de `Toler`"
      ]
    },
    {
      "cell_type": "code",
      "metadata": {
        "id": "91NAykq1NMja",
        "outputId": "2bb91b6a-9be1-4b61-beff-6750feeeacdb",
        "colab": {
          "base_uri": "https://localhost:8080/",
          "height": 142
        }
      },
      "source": [
        "# replicando a tabela de frequência absoluta e relativa vista em aula\n",
        "tab_freq_e_freq_rel = pd.DataFrame({'freq. absoluta': planilha.Toler.value_counts(),\n",
        "                                    'freq. relativa': planilha.Toler.value_counts(normalize=True)*100})\n",
        "\n",
        "tab_freq_e_freq_rel"
      ],
      "execution_count": 99,
      "outputs": [
        {
          "output_type": "execute_result",
          "data": {
            "text/html": [
              "<div>\n",
              "<style scoped>\n",
              "    .dataframe tbody tr th:only-of-type {\n",
              "        vertical-align: middle;\n",
              "    }\n",
              "\n",
              "    .dataframe tbody tr th {\n",
              "        vertical-align: top;\n",
              "    }\n",
              "\n",
              "    .dataframe thead th {\n",
              "        text-align: right;\n",
              "    }\n",
              "</style>\n",
              "<table border=\"1\" class=\"dataframe\">\n",
              "  <thead>\n",
              "    <tr style=\"text-align: right;\">\n",
              "      <th></th>\n",
              "      <th>freq. absoluta</th>\n",
              "      <th>freq. relativa</th>\n",
              "    </tr>\n",
              "  </thead>\n",
              "  <tbody>\n",
              "    <tr>\n",
              "      <th>P</th>\n",
              "      <td>21</td>\n",
              "      <td>42.0</td>\n",
              "    </tr>\n",
              "    <tr>\n",
              "      <th>M</th>\n",
              "      <td>19</td>\n",
              "      <td>38.0</td>\n",
              "    </tr>\n",
              "    <tr>\n",
              "      <th>I</th>\n",
              "      <td>10</td>\n",
              "      <td>20.0</td>\n",
              "    </tr>\n",
              "  </tbody>\n",
              "</table>\n",
              "</div>"
            ],
            "text/plain": [
              "   freq. absoluta  freq. relativa\n",
              "P              21            42.0\n",
              "M              19            38.0\n",
              "I              10            20.0"
            ]
          },
          "metadata": {},
          "execution_count": 99
        }
      ]
    },
    {
      "cell_type": "code",
      "metadata": {
        "id": "7EmjhMCmMSVz",
        "outputId": "1681983f-f20a-48b1-e08d-0ad7f20813e1",
        "colab": {
          "base_uri": "https://localhost:8080/",
          "height": 173
        }
      },
      "source": [
        "# utilizando a função crosstab do pandas\n",
        "tab_toler = pd.crosstab(index = planilha.Toler,\n",
        "                       columns = 'count')\n",
        "\n",
        "tab_toler"
      ],
      "execution_count": 109,
      "outputs": [
        {
          "output_type": "execute_result",
          "data": {
            "text/html": [
              "<div>\n",
              "<style scoped>\n",
              "    .dataframe tbody tr th:only-of-type {\n",
              "        vertical-align: middle;\n",
              "    }\n",
              "\n",
              "    .dataframe tbody tr th {\n",
              "        vertical-align: top;\n",
              "    }\n",
              "\n",
              "    .dataframe thead th {\n",
              "        text-align: right;\n",
              "    }\n",
              "</style>\n",
              "<table border=\"1\" class=\"dataframe\">\n",
              "  <thead>\n",
              "    <tr style=\"text-align: right;\">\n",
              "      <th>col_0</th>\n",
              "      <th>count</th>\n",
              "    </tr>\n",
              "    <tr>\n",
              "      <th>Toler</th>\n",
              "      <th></th>\n",
              "    </tr>\n",
              "  </thead>\n",
              "  <tbody>\n",
              "    <tr>\n",
              "      <th>I</th>\n",
              "      <td>10</td>\n",
              "    </tr>\n",
              "    <tr>\n",
              "      <th>M</th>\n",
              "      <td>19</td>\n",
              "    </tr>\n",
              "    <tr>\n",
              "      <th>P</th>\n",
              "      <td>21</td>\n",
              "    </tr>\n",
              "  </tbody>\n",
              "</table>\n",
              "</div>"
            ],
            "text/plain": [
              "col_0  count\n",
              "Toler       \n",
              "I         10\n",
              "M         19\n",
              "P         21"
            ]
          },
          "metadata": {},
          "execution_count": 109
        }
      ]
    },
    {
      "cell_type": "markdown",
      "metadata": {
        "id": "qHmzzF5oMIMt"
      },
      "source": [
        "# Tabela de Frequência de Tolerância por Sexo"
      ]
    },
    {
      "cell_type": "code",
      "metadata": {
        "id": "dLCivu07JjAj",
        "outputId": "11eba63c-aab5-4a2a-f364-dfa1b8d1d8a8",
        "colab": {
          "base_uri": "https://localhost:8080/",
          "height": 204
        }
      },
      "source": [
        "tab_toler_sexo = pd.crosstab(index = planilha.Toler,  # variável que será o nosso índice\n",
        "                       columns = planilha.Sexo,       # variável que terá as entradas únicas como coluna\n",
        "                       margins = True)                # para visualizarmos a soma das linhas e colunas\n",
        "\n",
        "tab_toler_sexo"
      ],
      "execution_count": 111,
      "outputs": [
        {
          "output_type": "execute_result",
          "data": {
            "text/html": [
              "<div>\n",
              "<style scoped>\n",
              "    .dataframe tbody tr th:only-of-type {\n",
              "        vertical-align: middle;\n",
              "    }\n",
              "\n",
              "    .dataframe tbody tr th {\n",
              "        vertical-align: top;\n",
              "    }\n",
              "\n",
              "    .dataframe thead th {\n",
              "        text-align: right;\n",
              "    }\n",
              "</style>\n",
              "<table border=\"1\" class=\"dataframe\">\n",
              "  <thead>\n",
              "    <tr style=\"text-align: right;\">\n",
              "      <th>Sexo</th>\n",
              "      <th>F</th>\n",
              "      <th>M</th>\n",
              "      <th>All</th>\n",
              "    </tr>\n",
              "    <tr>\n",
              "      <th>Toler</th>\n",
              "      <th></th>\n",
              "      <th></th>\n",
              "      <th></th>\n",
              "    </tr>\n",
              "  </thead>\n",
              "  <tbody>\n",
              "    <tr>\n",
              "      <th>I</th>\n",
              "      <td>7</td>\n",
              "      <td>3</td>\n",
              "      <td>10</td>\n",
              "    </tr>\n",
              "    <tr>\n",
              "      <th>M</th>\n",
              "      <td>16</td>\n",
              "      <td>3</td>\n",
              "      <td>19</td>\n",
              "    </tr>\n",
              "    <tr>\n",
              "      <th>P</th>\n",
              "      <td>14</td>\n",
              "      <td>7</td>\n",
              "      <td>21</td>\n",
              "    </tr>\n",
              "    <tr>\n",
              "      <th>All</th>\n",
              "      <td>37</td>\n",
              "      <td>13</td>\n",
              "      <td>50</td>\n",
              "    </tr>\n",
              "  </tbody>\n",
              "</table>\n",
              "</div>"
            ],
            "text/plain": [
              "Sexo    F   M  All\n",
              "Toler             \n",
              "I       7   3   10\n",
              "M      16   3   19\n",
              "P      14   7   21\n",
              "All    37  13   50"
            ]
          },
          "metadata": {},
          "execution_count": 111
        }
      ]
    },
    {
      "cell_type": "markdown",
      "metadata": {
        "id": "SR-dcHcnKs6n"
      },
      "source": [
        "# Tabela de Proporções de Tolerância por Sexo"
      ]
    },
    {
      "cell_type": "code",
      "metadata": {
        "id": "gE9Gzz_1Ki-S",
        "outputId": "65a15a0b-06a4-43ab-c51d-c9e52c808725",
        "colab": {
          "base_uri": "https://localhost:8080/",
          "height": 204
        }
      },
      "source": [
        "tab_toler_sexo_prop = tab_toler_sexo / tab_toler_sexo.loc['All','All']\n",
        "tab_toler_sexo_prop"
      ],
      "execution_count": 113,
      "outputs": [
        {
          "output_type": "execute_result",
          "data": {
            "text/html": [
              "<div>\n",
              "<style scoped>\n",
              "    .dataframe tbody tr th:only-of-type {\n",
              "        vertical-align: middle;\n",
              "    }\n",
              "\n",
              "    .dataframe tbody tr th {\n",
              "        vertical-align: top;\n",
              "    }\n",
              "\n",
              "    .dataframe thead th {\n",
              "        text-align: right;\n",
              "    }\n",
              "</style>\n",
              "<table border=\"1\" class=\"dataframe\">\n",
              "  <thead>\n",
              "    <tr style=\"text-align: right;\">\n",
              "      <th>Sexo</th>\n",
              "      <th>F</th>\n",
              "      <th>M</th>\n",
              "      <th>All</th>\n",
              "    </tr>\n",
              "    <tr>\n",
              "      <th>Toler</th>\n",
              "      <th></th>\n",
              "      <th></th>\n",
              "      <th></th>\n",
              "    </tr>\n",
              "  </thead>\n",
              "  <tbody>\n",
              "    <tr>\n",
              "      <th>I</th>\n",
              "      <td>0.14</td>\n",
              "      <td>0.06</td>\n",
              "      <td>0.20</td>\n",
              "    </tr>\n",
              "    <tr>\n",
              "      <th>M</th>\n",
              "      <td>0.32</td>\n",
              "      <td>0.06</td>\n",
              "      <td>0.38</td>\n",
              "    </tr>\n",
              "    <tr>\n",
              "      <th>P</th>\n",
              "      <td>0.28</td>\n",
              "      <td>0.14</td>\n",
              "      <td>0.42</td>\n",
              "    </tr>\n",
              "    <tr>\n",
              "      <th>All</th>\n",
              "      <td>0.74</td>\n",
              "      <td>0.26</td>\n",
              "      <td>1.00</td>\n",
              "    </tr>\n",
              "  </tbody>\n",
              "</table>\n",
              "</div>"
            ],
            "text/plain": [
              "Sexo      F     M   All\n",
              "Toler                  \n",
              "I      0.14  0.06  0.20\n",
              "M      0.32  0.06  0.38\n",
              "P      0.28  0.14  0.42\n",
              "All    0.74  0.26  1.00"
            ]
          },
          "metadata": {},
          "execution_count": 113
        }
      ]
    },
    {
      "cell_type": "markdown",
      "metadata": {
        "id": "xq6mPeeTLzZI"
      },
      "source": [
        "# Tabela de Frequência comparandao a Tolerância com sexo e se é fumante\n"
      ]
    },
    {
      "cell_type": "code",
      "metadata": {
        "id": "qJ6qm5TZLpgp",
        "outputId": "499b8b04-929a-4641-9bff-2baac94872e1",
        "colab": {
          "base_uri": "https://localhost:8080/",
          "height": 235
        }
      },
      "source": [
        "tab_toler_sexo_fuma = pd.crosstab(index = planilha.Toler,         # selecionando index\n",
        "                       columns = [planilha.Sexo,planilha.Fuma],   # selecionando as colunas de analise, no caso mais de uma variável\n",
        "                       margins = True)                            # para visualizarmos o total\n",
        "\n",
        "tab_toler_sexo_fuma"
      ],
      "execution_count": 45,
      "outputs": [
        {
          "output_type": "execute_result",
          "data": {
            "text/html": [
              "<div>\n",
              "<style scoped>\n",
              "    .dataframe tbody tr th:only-of-type {\n",
              "        vertical-align: middle;\n",
              "    }\n",
              "\n",
              "    .dataframe tbody tr th {\n",
              "        vertical-align: top;\n",
              "    }\n",
              "\n",
              "    .dataframe thead tr th {\n",
              "        text-align: left;\n",
              "    }\n",
              "\n",
              "    .dataframe thead tr:last-of-type th {\n",
              "        text-align: right;\n",
              "    }\n",
              "</style>\n",
              "<table border=\"1\" class=\"dataframe\">\n",
              "  <thead>\n",
              "    <tr>\n",
              "      <th>Sexo</th>\n",
              "      <th colspan=\"2\" halign=\"left\">F</th>\n",
              "      <th colspan=\"2\" halign=\"left\">M</th>\n",
              "      <th>All</th>\n",
              "    </tr>\n",
              "    <tr>\n",
              "      <th>Fuma</th>\n",
              "      <th>NAO</th>\n",
              "      <th>SIM</th>\n",
              "      <th>NAO</th>\n",
              "      <th>SIM</th>\n",
              "      <th></th>\n",
              "    </tr>\n",
              "    <tr>\n",
              "      <th>Toler</th>\n",
              "      <th></th>\n",
              "      <th></th>\n",
              "      <th></th>\n",
              "      <th></th>\n",
              "      <th></th>\n",
              "    </tr>\n",
              "  </thead>\n",
              "  <tbody>\n",
              "    <tr>\n",
              "      <th>I</th>\n",
              "      <td>3</td>\n",
              "      <td>4</td>\n",
              "      <td>1</td>\n",
              "      <td>2</td>\n",
              "      <td>10</td>\n",
              "    </tr>\n",
              "    <tr>\n",
              "      <th>M</th>\n",
              "      <td>16</td>\n",
              "      <td>0</td>\n",
              "      <td>3</td>\n",
              "      <td>0</td>\n",
              "      <td>19</td>\n",
              "    </tr>\n",
              "    <tr>\n",
              "      <th>P</th>\n",
              "      <td>14</td>\n",
              "      <td>0</td>\n",
              "      <td>7</td>\n",
              "      <td>0</td>\n",
              "      <td>21</td>\n",
              "    </tr>\n",
              "    <tr>\n",
              "      <th>All</th>\n",
              "      <td>33</td>\n",
              "      <td>4</td>\n",
              "      <td>11</td>\n",
              "      <td>2</td>\n",
              "      <td>50</td>\n",
              "    </tr>\n",
              "  </tbody>\n",
              "</table>\n",
              "</div>"
            ],
            "text/plain": [
              "Sexo    F       M     All\n",
              "Fuma  NAO SIM NAO SIM    \n",
              "Toler                    \n",
              "I       3   4   1   2  10\n",
              "M      16   0   3   0  19\n",
              "P      14   0   7   0  21\n",
              "All    33   4  11   2  50"
            ]
          },
          "metadata": {},
          "execution_count": 45
        }
      ]
    },
    {
      "cell_type": "markdown",
      "metadata": {
        "id": "6_TblUAiQTFR"
      },
      "source": [
        "# Tabela de Proporção comparando a Tolerância com sexo e se é fumante\n"
      ]
    },
    {
      "cell_type": "code",
      "metadata": {
        "id": "UCBWeddlPX_E",
        "outputId": "51dcee6f-eec9-4b88-b6a6-6668bda3b991",
        "colab": {
          "base_uri": "https://localhost:8080/",
          "height": 235
        }
      },
      "source": [
        "# divide pelo total da coluna\n",
        "tab_toler_sexo_fuma / tab_toler_sexo_fuma.loc['All']"
      ],
      "execution_count": 108,
      "outputs": [
        {
          "output_type": "execute_result",
          "data": {
            "text/html": [
              "<div>\n",
              "<style scoped>\n",
              "    .dataframe tbody tr th:only-of-type {\n",
              "        vertical-align: middle;\n",
              "    }\n",
              "\n",
              "    .dataframe tbody tr th {\n",
              "        vertical-align: top;\n",
              "    }\n",
              "\n",
              "    .dataframe thead tr th {\n",
              "        text-align: left;\n",
              "    }\n",
              "\n",
              "    .dataframe thead tr:last-of-type th {\n",
              "        text-align: right;\n",
              "    }\n",
              "</style>\n",
              "<table border=\"1\" class=\"dataframe\">\n",
              "  <thead>\n",
              "    <tr>\n",
              "      <th>Sexo</th>\n",
              "      <th colspan=\"2\" halign=\"left\">F</th>\n",
              "      <th colspan=\"2\" halign=\"left\">M</th>\n",
              "      <th>All</th>\n",
              "    </tr>\n",
              "    <tr>\n",
              "      <th>Fuma</th>\n",
              "      <th>NAO</th>\n",
              "      <th>SIM</th>\n",
              "      <th>NAO</th>\n",
              "      <th>SIM</th>\n",
              "      <th></th>\n",
              "    </tr>\n",
              "    <tr>\n",
              "      <th>Toler</th>\n",
              "      <th></th>\n",
              "      <th></th>\n",
              "      <th></th>\n",
              "      <th></th>\n",
              "      <th></th>\n",
              "    </tr>\n",
              "  </thead>\n",
              "  <tbody>\n",
              "    <tr>\n",
              "      <th>I</th>\n",
              "      <td>0.090909</td>\n",
              "      <td>1.0</td>\n",
              "      <td>0.090909</td>\n",
              "      <td>1.0</td>\n",
              "      <td>0.20</td>\n",
              "    </tr>\n",
              "    <tr>\n",
              "      <th>M</th>\n",
              "      <td>0.484848</td>\n",
              "      <td>0.0</td>\n",
              "      <td>0.272727</td>\n",
              "      <td>0.0</td>\n",
              "      <td>0.38</td>\n",
              "    </tr>\n",
              "    <tr>\n",
              "      <th>P</th>\n",
              "      <td>0.424242</td>\n",
              "      <td>0.0</td>\n",
              "      <td>0.636364</td>\n",
              "      <td>0.0</td>\n",
              "      <td>0.42</td>\n",
              "    </tr>\n",
              "    <tr>\n",
              "      <th>All</th>\n",
              "      <td>1.000000</td>\n",
              "      <td>1.0</td>\n",
              "      <td>1.000000</td>\n",
              "      <td>1.0</td>\n",
              "      <td>1.00</td>\n",
              "    </tr>\n",
              "  </tbody>\n",
              "</table>\n",
              "</div>"
            ],
            "text/plain": [
              "Sexo          F              M        All\n",
              "Fuma        NAO  SIM       NAO  SIM      \n",
              "Toler                                    \n",
              "I      0.090909  1.0  0.090909  1.0  0.20\n",
              "M      0.484848  0.0  0.272727  0.0  0.38\n",
              "P      0.424242  0.0  0.636364  0.0  0.42\n",
              "All    1.000000  1.0  1.000000  1.0  1.00"
            ]
          },
          "metadata": {},
          "execution_count": 108
        }
      ]
    },
    {
      "cell_type": "code",
      "metadata": {
        "id": "8pGJ67rXMZKQ",
        "colab": {
          "base_uri": "https://localhost:8080/",
          "height": 281
        },
        "outputId": "672dd2d1-e5be-4f81-9e2d-9968b0267ff1"
      },
      "source": [
        "sns.histplot(\n",
        "    data = planilha.query('Sexo == \"M\"').Peso,    # selecionando somente os homens\n",
        "    binwidth=10,                                  # forçando para que o tamanho da nossa classe seja 10, ou seja, cada barrinha vai estar em um intervalo como 50 ⊢ 60\n",
        "    stat = 'density');                            # selecionando a densidade como medida estatística"
      ],
      "execution_count": 117,
      "outputs": [
        {
          "output_type": "display_data",
          "data": {
            "image/png": "[encoded data removed]",
            "text/plain": [
              "<Figure size 432x288 with 1 Axes>"
            ]
          },
          "metadata": {
            "needs_background": "light"
          }
        }
      ]
    },
    {
      "cell_type": "code",
      "metadata": {
        "id": "HP5ikqPBxbPE",
        "outputId": "c9aced8c-9123-4069-e483-66e3a0a19749",
        "colab": {
          "base_uri": "https://localhost:8080/",
          "height": 279
        }
      },
      "source": [
        "sns.histplot(\n",
        "    data = planilha.query('Sexo == \"F\"').Peso,     # selecionando somente as mulheres\n",
        "    binwidth=10,\n",
        "    stat = 'density');"
      ],
      "execution_count": 116,
      "outputs": [
        {
          "output_type": "display_data",
          "data": {
            "image/png": "[encoded data removed]",
            "text/plain": [
              "<Figure size 432x288 with 1 Axes>"
            ]
          },
          "metadata": {
            "needs_background": "light"
          }
        }
      ]
    },
    {
      "cell_type": "code",
      "metadata": {
        "id": "VZ3e2I70LZS2",
        "colab": {
          "base_uri": "https://localhost:8080/",
          "height": 279
        },
        "outputId": "9b989ef1-5001-45bb-ba49-99db83992839"
      },
      "source": [
        "sns.histplot(\n",
        "    data = planilha,\n",
        "    x = 'Peso',             # escolha da variável\n",
        "    binwidth=3,             # selecionando o tamanho da classe como 3, ou seja, cada barrinha vai estar em um intervalo como 50 ⊢ 53\n",
        "    stat = 'density');"
      ],
      "execution_count": 93,
      "outputs": [
        {
          "output_type": "display_data",
          "data": {
            "image/png": "[encoded data removed]",
            "text/plain": [
              "<Figure size 432x288 with 1 Axes>"
            ]
          },
          "metadata": {
            "needs_background": "light"
          }
        }
      ]
    },
    {
      "cell_type": "code",
      "metadata": {
        "id": "XprCimbSzdBW",
        "outputId": "3775bcc2-724a-416d-956d-f92c136ee8e3",
        "colab": {
          "base_uri": "https://localhost:8080/",
          "height": 279
        }
      },
      "source": [
        "sns.histplot(\n",
        "    data = planilha,\n",
        "    x = 'Peso',\n",
        "    binwidth = 10,\n",
        "    stat = 'density');"
      ],
      "execution_count": 120,
      "outputs": [
        {
          "output_type": "display_data",
          "data": {
            "image/png": "[encoded data removed]",
            "text/plain": [
              "<Figure size 432x288 with 1 Axes>"
            ]
          },
          "metadata": {
            "needs_background": "light"
          }
        }
      ]
    },
    {
      "cell_type": "code",
      "metadata": {
        "id": "8AmfzcY4LgfU",
        "outputId": "0c8d7c0e-f29c-47ef-fe1b-59c869614dd5",
        "colab": {
          "base_uri": "https://localhost:8080/",
          "height": 279
        }
      },
      "source": [
        "sns.histplot(\n",
        "    data = planilha,\n",
        "    x = 'Peso',\n",
        "    hue = 'Sexo',      # fazendo uma separação entre as entadas únicas da variável Sexo\n",
        "    binwidth = 10,\n",
        "    stat = 'density');"
      ],
      "execution_count": 124,
      "outputs": [
        {
          "output_type": "display_data",
          "data": {
            "image/png": "[encoded data removed]",
            "text/plain": [
              "<Figure size 432x288 with 1 Axes>"
            ]
          },
          "metadata": {
            "needs_background": "light"
          }
        }
      ]
    },
    {
      "cell_type": "code",
      "metadata": {
        "id": "3mi7aLX0okFh",
        "outputId": "519a7fc0-caee-4383-f8e0-19cd17956362",
        "colab": {
          "base_uri": "https://localhost:8080/",
          "height": 279
        }
      },
      "source": [
        "  sns.histplot(\n",
        "    data = planilha,\n",
        "    x = 'Peso',\n",
        "    hue = 'Sexo',\n",
        "    binwidth=10,\n",
        "    kde = True,\n",
        "    stat = 'density');"
      ],
      "execution_count": 125,
      "outputs": [
        {
          "output_type": "display_data",
          "data": {
            "image/png": "[encoded data removed]",
            "text/plain": [
              "<Figure size 432x288 with 1 Axes>"
            ]
          },
          "metadata": {
            "needs_background": "light"
          }
        }
      ]
    },
    {
      "cell_type": "code",
      "metadata": {
        "id": "UHNu24GaqBbH"
      },
      "source": [
        ""
      ],
      "execution_count": null,
      "outputs": []
    }
  ]
}