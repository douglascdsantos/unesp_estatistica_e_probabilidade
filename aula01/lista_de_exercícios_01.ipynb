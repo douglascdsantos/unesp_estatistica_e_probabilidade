{
  "nbformat": 4,
  "nbformat_minor": 0,
  "metadata": {
    "colab": {
      "name": "lista de exercícios 01.ipynb",
      "provenance": [],
      "toc_visible": true,
      "authorship_tag": "ABX9TyPFY9dtichGcOqKyhYuL91e",
      "include_colab_link": true
    },
    "kernelspec": {
      "name": "python3",
      "display_name": "Python 3"
    },
    "language_info": {
      "name": "python"
    }
  },
  "cells": [
    {
      "cell_type": "markdown",
      "metadata": {
        "id": "view-in-github",
        "colab_type": "text"
      },
      "source": [
        "<a href=\"https://colab.research.google.com/github/douglascdsantos/unesp_estatistica_e_probabilidade/blob/main/aula01/lista_de_exerc%C3%ADcios_01.ipynb\" target=\"_parent\"><img src=\"https://colab.research.google.com/assets/colab-badge.svg\" alt=\"Open In Colab\"/></a>"
      ]
    },
    {
      "cell_type": "code",
      "metadata": {
        "id": "kQWmKNFXlEIY"
      },
      "source": [
        "import pandas as pd\n",
        "import seaborn as sns\n",
        "sns.set(rc={'figure.figsize':(11,8)})\n",
        "dados = pd.read_excel('https://github.com/douglascdsantos/unesp_estatistica_e_probabilidade/blob/main/aula01/EP%2001%20lista%20de%20exerc%C3%ADcio%20dados.xlsx?raw=true', None)"
      ],
      "execution_count": 39,
      "outputs": []
    },
    {
      "cell_type": "markdown",
      "metadata": {
        "id": "RePsUDzhmsEO"
      },
      "source": [
        "## Exercício 01"
      ]
    },
    {
      "cell_type": "markdown",
      "metadata": {
        "id": "QkTJpxJRO8rG"
      },
      "source": [
        "### a) Qualitativa nominal"
      ]
    },
    {
      "cell_type": "markdown",
      "metadata": {
        "id": "B2Qlo3eBO-r-"
      },
      "source": [
        "### b) Qualitativa nominal"
      ]
    },
    {
      "cell_type": "markdown",
      "metadata": {
        "id": "Kle0A79RPBxu"
      },
      "source": [
        "### c) Quantitativa contínua"
      ]
    },
    {
      "cell_type": "markdown",
      "metadata": {
        "id": "hmHxyoNNPEue"
      },
      "source": [
        "### d) Qualitativa ordinal"
      ]
    },
    {
      "cell_type": "markdown",
      "metadata": {
        "id": "8HKWY_PaPHcO"
      },
      "source": [
        "### e) Qualitativa ordinal"
      ]
    },
    {
      "cell_type": "markdown",
      "metadata": {
        "id": "NGzw0T3BnEie"
      },
      "source": [
        "## Exercício 02\n",
        "Dicionário de Variáveis:\n",
        "- `Pacientes` - identificador de cada individuo;\n",
        "- `Fisioterapia` - número de meses previstos de fisioterapia;\n",
        "- `Sequelas` - se haverá (S) ou não (N) sequelas após o tratamento;\n",
        "- `Cirurgia` - grau de complexidade da cirurgia realizada: alto (A), médio (M) ou baixo (B)."
      ]
    },
    {
      "cell_type": "code",
      "metadata": {
        "colab": {
          "base_uri": "https://localhost:8080/",
          "height": 520
        },
        "id": "jsFiIxLOrFCX",
        "outputId": "5f4805de-f7e5-4488-e139-2bf6eb386d4a"
      },
      "source": [
        "dados['questao_2']"
      ],
      "execution_count": 40,
      "outputs": [
        {
          "output_type": "execute_result",
          "data": {
            "text/html": [
              "<div>\n",
              "<style scoped>\n",
              "    .dataframe tbody tr th:only-of-type {\n",
              "        vertical-align: middle;\n",
              "    }\n",
              "\n",
              "    .dataframe tbody tr th {\n",
              "        vertical-align: top;\n",
              "    }\n",
              "\n",
              "    .dataframe thead th {\n",
              "        text-align: right;\n",
              "    }\n",
              "</style>\n",
              "<table border=\"1\" class=\"dataframe\">\n",
              "  <thead>\n",
              "    <tr style=\"text-align: right;\">\n",
              "      <th></th>\n",
              "      <th>Pacientes</th>\n",
              "      <th>Fisioterapia</th>\n",
              "      <th>Sequelas</th>\n",
              "      <th>Cirurgia</th>\n",
              "    </tr>\n",
              "  </thead>\n",
              "  <tbody>\n",
              "    <tr>\n",
              "      <th>0</th>\n",
              "      <td>1</td>\n",
              "      <td>7</td>\n",
              "      <td>S</td>\n",
              "      <td>A</td>\n",
              "    </tr>\n",
              "    <tr>\n",
              "      <th>1</th>\n",
              "      <td>2</td>\n",
              "      <td>8</td>\n",
              "      <td>S</td>\n",
              "      <td>M</td>\n",
              "    </tr>\n",
              "    <tr>\n",
              "      <th>2</th>\n",
              "      <td>3</td>\n",
              "      <td>5</td>\n",
              "      <td>N</td>\n",
              "      <td>A</td>\n",
              "    </tr>\n",
              "    <tr>\n",
              "      <th>3</th>\n",
              "      <td>4</td>\n",
              "      <td>6</td>\n",
              "      <td>N</td>\n",
              "      <td>M</td>\n",
              "    </tr>\n",
              "    <tr>\n",
              "      <th>4</th>\n",
              "      <td>5</td>\n",
              "      <td>4</td>\n",
              "      <td>N</td>\n",
              "      <td>M</td>\n",
              "    </tr>\n",
              "    <tr>\n",
              "      <th>5</th>\n",
              "      <td>6</td>\n",
              "      <td>5</td>\n",
              "      <td>S</td>\n",
              "      <td>B</td>\n",
              "    </tr>\n",
              "    <tr>\n",
              "      <th>6</th>\n",
              "      <td>7</td>\n",
              "      <td>7</td>\n",
              "      <td>S</td>\n",
              "      <td>A</td>\n",
              "    </tr>\n",
              "    <tr>\n",
              "      <th>7</th>\n",
              "      <td>8</td>\n",
              "      <td>7</td>\n",
              "      <td>N</td>\n",
              "      <td>M</td>\n",
              "    </tr>\n",
              "    <tr>\n",
              "      <th>8</th>\n",
              "      <td>9</td>\n",
              "      <td>6</td>\n",
              "      <td>N</td>\n",
              "      <td>B</td>\n",
              "    </tr>\n",
              "    <tr>\n",
              "      <th>9</th>\n",
              "      <td>10</td>\n",
              "      <td>8</td>\n",
              "      <td>S</td>\n",
              "      <td>M</td>\n",
              "    </tr>\n",
              "    <tr>\n",
              "      <th>10</th>\n",
              "      <td>11</td>\n",
              "      <td>6</td>\n",
              "      <td>S</td>\n",
              "      <td>B</td>\n",
              "    </tr>\n",
              "    <tr>\n",
              "      <th>11</th>\n",
              "      <td>12</td>\n",
              "      <td>5</td>\n",
              "      <td>N</td>\n",
              "      <td>B</td>\n",
              "    </tr>\n",
              "    <tr>\n",
              "      <th>12</th>\n",
              "      <td>13</td>\n",
              "      <td>5</td>\n",
              "      <td>S</td>\n",
              "      <td>M</td>\n",
              "    </tr>\n",
              "    <tr>\n",
              "      <th>13</th>\n",
              "      <td>14</td>\n",
              "      <td>4</td>\n",
              "      <td>N</td>\n",
              "      <td>M</td>\n",
              "    </tr>\n",
              "    <tr>\n",
              "      <th>14</th>\n",
              "      <td>15</td>\n",
              "      <td>5</td>\n",
              "      <td>N</td>\n",
              "      <td>A</td>\n",
              "    </tr>\n",
              "  </tbody>\n",
              "</table>\n",
              "</div>"
            ],
            "text/plain": [
              "    Pacientes  Fisioterapia Sequelas Cirurgia\n",
              "0           1             7        S        A\n",
              "1           2             8        S        M\n",
              "2           3             5        N        A\n",
              "3           4             6        N        M\n",
              "4           5             4        N        M\n",
              "5           6             5        S        B\n",
              "6           7             7        S        A\n",
              "7           8             7        N        M\n",
              "8           9             6        N        B\n",
              "9          10             8        S        M\n",
              "10         11             6        S        B\n",
              "11         12             5        N        B\n",
              "12         13             5        S        M\n",
              "13         14             4        N        M\n",
              "14         15             5        N        A"
            ]
          },
          "metadata": {},
          "execution_count": 40
        }
      ]
    },
    {
      "cell_type": "markdown",
      "metadata": {
        "id": "THkEUxN9rEqJ"
      },
      "source": [
        "### a)\n",
        "- `Pacientes` - quantitativa discreta;\n",
        "- `Fisioterapia` - quantitativa discreta;\n",
        "- `Sequelas` - qualitativa nominal;\n",
        "- `Cirurgia` - qualitativa ordinal."
      ]
    },
    {
      "cell_type": "markdown",
      "metadata": {
        "id": "vOp1aGPao_Y_"
      },
      "source": [
        "### b) tabela de frequência"
      ]
    },
    {
      "cell_type": "markdown",
      "metadata": {
        "id": "khlHZkfoWyGS"
      },
      "source": [
        "#### Fisioterapia"
      ]
    },
    {
      "cell_type": "code",
      "metadata": {
        "id": "tkGkr2Z5ZS26",
        "colab": {
          "base_uri": "https://localhost:8080/",
          "height": 238
        },
        "outputId": "2ef053ff-e39d-4230-f10a-1bbbe5ce488f"
      },
      "source": [
        "tab_freq_fisioterapia = pd.crosstab(index = dados['questao_2'].Fisioterapia,\n",
        "            columns = 'Frequência Absoluta',\n",
        "            colnames = [''])\n",
        "tab_freq_fisioterapia['Frequência Relativa'] = tab_freq_fisioterapia / tab_freq_fisioterapia.sum()\n",
        "tab_freq_fisioterapia"
      ],
      "execution_count": 41,
      "outputs": [
        {
          "output_type": "execute_result",
          "data": {
            "text/html": [
              "<div>\n",
              "<style scoped>\n",
              "    .dataframe tbody tr th:only-of-type {\n",
              "        vertical-align: middle;\n",
              "    }\n",
              "\n",
              "    .dataframe tbody tr th {\n",
              "        vertical-align: top;\n",
              "    }\n",
              "\n",
              "    .dataframe thead th {\n",
              "        text-align: right;\n",
              "    }\n",
              "</style>\n",
              "<table border=\"1\" class=\"dataframe\">\n",
              "  <thead>\n",
              "    <tr style=\"text-align: right;\">\n",
              "      <th></th>\n",
              "      <th>Frequência Absoluta</th>\n",
              "      <th>Frequência Relativa</th>\n",
              "    </tr>\n",
              "    <tr>\n",
              "      <th>Fisioterapia</th>\n",
              "      <th></th>\n",
              "      <th></th>\n",
              "    </tr>\n",
              "  </thead>\n",
              "  <tbody>\n",
              "    <tr>\n",
              "      <th>4</th>\n",
              "      <td>2</td>\n",
              "      <td>0.133333</td>\n",
              "    </tr>\n",
              "    <tr>\n",
              "      <th>5</th>\n",
              "      <td>5</td>\n",
              "      <td>0.333333</td>\n",
              "    </tr>\n",
              "    <tr>\n",
              "      <th>6</th>\n",
              "      <td>3</td>\n",
              "      <td>0.200000</td>\n",
              "    </tr>\n",
              "    <tr>\n",
              "      <th>7</th>\n",
              "      <td>3</td>\n",
              "      <td>0.200000</td>\n",
              "    </tr>\n",
              "    <tr>\n",
              "      <th>8</th>\n",
              "      <td>2</td>\n",
              "      <td>0.133333</td>\n",
              "    </tr>\n",
              "  </tbody>\n",
              "</table>\n",
              "</div>"
            ],
            "text/plain": [
              "              Frequência Absoluta  Frequência Relativa\n",
              "Fisioterapia                                          \n",
              "4                               2             0.133333\n",
              "5                               5             0.333333\n",
              "6                               3             0.200000\n",
              "7                               3             0.200000\n",
              "8                               2             0.133333"
            ]
          },
          "metadata": {},
          "execution_count": 41
        }
      ]
    },
    {
      "cell_type": "code",
      "metadata": {
        "colab": {
          "base_uri": "https://localhost:8080/",
          "height": 502
        },
        "id": "bz9lMFJjqd5H",
        "outputId": "0a937ec5-186d-4059-d0b6-79cfc5c5b662"
      },
      "source": [
        "sns.histplot(data = dados['questao_2'],\n",
        "             x = 'Fisioterapia');"
      ],
      "execution_count": 42,
      "outputs": [
        {
          "output_type": "display_data",
          "data": {
            "image/png": "[encoded data removed]",
            "text/plain": [
              "<Figure size 792x576 with 1 Axes>"
            ]
          },
          "metadata": {}
        }
      ]
    },
    {
      "cell_type": "markdown",
      "metadata": {
        "id": "e8-hKZPuXv8z"
      },
      "source": [
        "#### Sequelas"
      ]
    },
    {
      "cell_type": "code",
      "metadata": {
        "id": "2C-KJDScffvb",
        "colab": {
          "base_uri": "https://localhost:8080/",
          "height": 143
        },
        "outputId": "afad8567-fad3-462e-bf47-08cac1417480"
      },
      "source": [
        "tab_freq_sequelas = pd.crosstab(index = dados['questao_2'].Sequelas,\n",
        "            columns = 'Frequência Absoluta',\n",
        "            colnames = [''])\n",
        "tab_freq_sequelas['Frequência Relativa'] = tab_freq_sequelas / tab_freq_sequelas.sum()\n",
        "tab_freq_sequelas"
      ],
      "execution_count": 43,
      "outputs": [
        {
          "output_type": "execute_result",
          "data": {
            "text/html": [
              "<div>\n",
              "<style scoped>\n",
              "    .dataframe tbody tr th:only-of-type {\n",
              "        vertical-align: middle;\n",
              "    }\n",
              "\n",
              "    .dataframe tbody tr th {\n",
              "        vertical-align: top;\n",
              "    }\n",
              "\n",
              "    .dataframe thead th {\n",
              "        text-align: right;\n",
              "    }\n",
              "</style>\n",
              "<table border=\"1\" class=\"dataframe\">\n",
              "  <thead>\n",
              "    <tr style=\"text-align: right;\">\n",
              "      <th></th>\n",
              "      <th>Frequência Absoluta</th>\n",
              "      <th>Frequência Relativa</th>\n",
              "    </tr>\n",
              "    <tr>\n",
              "      <th>Sequelas</th>\n",
              "      <th></th>\n",
              "      <th></th>\n",
              "    </tr>\n",
              "  </thead>\n",
              "  <tbody>\n",
              "    <tr>\n",
              "      <th>N</th>\n",
              "      <td>8</td>\n",
              "      <td>0.533333</td>\n",
              "    </tr>\n",
              "    <tr>\n",
              "      <th>S</th>\n",
              "      <td>7</td>\n",
              "      <td>0.466667</td>\n",
              "    </tr>\n",
              "  </tbody>\n",
              "</table>\n",
              "</div>"
            ],
            "text/plain": [
              "          Frequência Absoluta  Frequência Relativa\n",
              "Sequelas                                          \n",
              "N                           8             0.533333\n",
              "S                           7             0.466667"
            ]
          },
          "metadata": {},
          "execution_count": 43
        }
      ]
    },
    {
      "cell_type": "code",
      "metadata": {
        "id": "OE-AP8tWCPIz",
        "colab": {
          "base_uri": "https://localhost:8080/",
          "height": 502
        },
        "outputId": "ad1dd281-7e63-415a-f6bb-3b45250c6672"
      },
      "source": [
        "sns.histplot(data = dados['questao_2'],\n",
        "             x = 'Sequelas');"
      ],
      "execution_count": 44,
      "outputs": [
        {
          "output_type": "display_data",
          "data": {
            "image/png": "[encoded data removed]",
            "text/plain": [
              "<Figure size 792x576 with 1 Axes>"
            ]
          },
          "metadata": {}
        }
      ]
    },
    {
      "cell_type": "markdown",
      "metadata": {
        "id": "XixQlDY7ZJoL"
      },
      "source": [
        "#### Cirurgia"
      ]
    },
    {
      "cell_type": "code",
      "metadata": {
        "id": "DBeM4ytEfpMT",
        "colab": {
          "base_uri": "https://localhost:8080/",
          "height": 175
        },
        "outputId": "37259935-e0b8-442c-e50d-d3a601dfe60e"
      },
      "source": [
        "tab_freq_cirurgia = pd.crosstab(index = dados['questao_2'].Cirurgia,\n",
        "            columns = 'Frequência Absoluta',\n",
        "            colnames = [''])\n",
        "tab_freq_cirurgia['Frequência Relativa'] = tab_freq_cirurgia / tab_freq_cirurgia.sum()\n",
        "tab_freq_cirurgia"
      ],
      "execution_count": 45,
      "outputs": [
        {
          "output_type": "execute_result",
          "data": {
            "text/html": [
              "<div>\n",
              "<style scoped>\n",
              "    .dataframe tbody tr th:only-of-type {\n",
              "        vertical-align: middle;\n",
              "    }\n",
              "\n",
              "    .dataframe tbody tr th {\n",
              "        vertical-align: top;\n",
              "    }\n",
              "\n",
              "    .dataframe thead th {\n",
              "        text-align: right;\n",
              "    }\n",
              "</style>\n",
              "<table border=\"1\" class=\"dataframe\">\n",
              "  <thead>\n",
              "    <tr style=\"text-align: right;\">\n",
              "      <th></th>\n",
              "      <th>Frequência Absoluta</th>\n",
              "      <th>Frequência Relativa</th>\n",
              "    </tr>\n",
              "    <tr>\n",
              "      <th>Cirurgia</th>\n",
              "      <th></th>\n",
              "      <th></th>\n",
              "    </tr>\n",
              "  </thead>\n",
              "  <tbody>\n",
              "    <tr>\n",
              "      <th>A</th>\n",
              "      <td>4</td>\n",
              "      <td>0.266667</td>\n",
              "    </tr>\n",
              "    <tr>\n",
              "      <th>B</th>\n",
              "      <td>4</td>\n",
              "      <td>0.266667</td>\n",
              "    </tr>\n",
              "    <tr>\n",
              "      <th>M</th>\n",
              "      <td>7</td>\n",
              "      <td>0.466667</td>\n",
              "    </tr>\n",
              "  </tbody>\n",
              "</table>\n",
              "</div>"
            ],
            "text/plain": [
              "          Frequência Absoluta  Frequência Relativa\n",
              "Cirurgia                                          \n",
              "A                           4             0.266667\n",
              "B                           4             0.266667\n",
              "M                           7             0.466667"
            ]
          },
          "metadata": {},
          "execution_count": 45
        }
      ]
    },
    {
      "cell_type": "code",
      "metadata": {
        "colab": {
          "base_uri": "https://localhost:8080/",
          "height": 502
        },
        "id": "v6mLQw14n6ix",
        "outputId": "49e3b505-bc20-4345-ce7a-3143d01850ce"
      },
      "source": [
        "sns.histplot(data = dados['questao_2'],\n",
        "             x = 'Cirurgia');"
      ],
      "execution_count": 46,
      "outputs": [
        {
          "output_type": "display_data",
          "data": {
            "image/png": "[encoded data removed]",
            "text/plain": [
              "<Figure size 792x576 with 1 Axes>"
            ]
          },
          "metadata": {}
        }
      ]
    },
    {
      "cell_type": "markdown",
      "metadata": {
        "id": "c6Uif60yf0r7"
      },
      "source": [
        "### c)\n"
      ]
    },
    {
      "cell_type": "code",
      "metadata": {
        "id": "Oic8pSlQpkd2",
        "colab": {
          "base_uri": "https://localhost:8080/",
          "height": 502
        },
        "outputId": "ab1b9337-d65c-4759-8776-081bcbe7cab5"
      },
      "source": [
        "sns.histplot(data = dados['questao_2'].query('Sequelas == \"N\"'),\n",
        "             x = 'Fisioterapia');"
      ],
      "execution_count": 47,
      "outputs": [
        {
          "output_type": "display_data",
          "data": {
            "image/png": "[encoded data removed]",
            "text/plain": [
              "<Figure size 792x576 with 1 Axes>"
            ]
          },
          "metadata": {}
        }
      ]
    },
    {
      "cell_type": "code",
      "metadata": {
        "id": "A4uA7TkVgCsL",
        "colab": {
          "base_uri": "https://localhost:8080/",
          "height": 502
        },
        "outputId": "51261c27-36cc-4a3b-8d1d-3ee6b2e04544"
      },
      "source": [
        "sns.histplot(data = dados['questao_2'],\n",
        "             x = 'Fisioterapia',\n",
        "             hue = 'Sequelas');"
      ],
      "execution_count": 48,
      "outputs": [
        {
          "output_type": "display_data",
          "data": {
            "image/png": "[encoded data removed]",
            "text/plain": [
              "<Figure size 792x576 with 1 Axes>"
            ]
          },
          "metadata": {}
        }
      ]
    },
    {
      "cell_type": "markdown",
      "metadata": {
        "id": "uiB0pYEFBBRx"
      },
      "source": [
        "## Exercício 03\n",
        "<center><img width=\"70%\" src=\"https://cdn.loom.com/images/originals/ead5289c839349d8a3859b0099f52579.jpg?Expires=1638213996&Policy=eyJTdGF0ZW1lbnQiOlt7IlJlc291cmNlIjoiaHR0cHM6Ly9jZG4ubG9vbS5jb20vaW1hZ2VzL29yaWdpbmFscy9lYWQ1Mjg5YzgzOTM0OWQ4YTM4NTliMDA5OWY1MjU3OS5qcGciLCJDb25kaXRpb24iOnsiRGF0ZUxlc3NUaGFuIjp7IkFXUzpFcG9jaFRpbWUiOjE2MzgyMTM5OTZ9fX1dfQ__&Signature=mQ4C-hBc7GvcNLYOcu3qF8HsvswO1LtoBtfitP-UpzOA~z9Ggz~rJnvqW100GEzpS0NNGs~rnDCOwWs4OyjxO85xTzvQ-iI27J-E-ZBV6XlxwdFFYQLQtAx2dfvLcOBfrcf5xMgu5G5hnGrIA0AhMCVVMJNaeBIOJJ9PXZM5wWIrXI6hPNG57IRxJaLwAfL~VR9ALXLHsA4-vl9YA4Jh7TFW-jfIBDQpMxYaEE5q7iWiuBpPIYDjLsi0CzsP3dCxa-6uKviWwfrg3b9rUxgwjwVWDYHFWYwM1O7ham5CIaVNlGAW8W3nCeZsf4l-yhXodWJ6bOt8CmVWQS8uh6lImQ__&Key-Pair-Id=APKAJQIC5BGSW7XXK7FQ\"></center>"
      ]
    },
    {
      "cell_type": "markdown",
      "metadata": {
        "id": "PPRc5t9qbUdC"
      },
      "source": [
        "### a)"
      ]
    },
    {
      "cell_type": "markdown",
      "metadata": {
        "id": "7J-YxSqGceSi"
      },
      "source": [
        "#### Categorizando os dados"
      ]
    },
    {
      "cell_type": "code",
      "metadata": {
        "id": "hqrHprN_DYsh",
        "colab": {
          "base_uri": "https://localhost:8080/",
          "height": 677
        },
        "outputId": "00a8c8c3-d6b2-4cef-c351-e8da22485f08"
      },
      "source": [
        "# criando a função que irá receber um series, o minimo e a amplitude\n",
        "def tab_freq (series,minimo,amplitude,inteiro):\n",
        "  import math\n",
        "  # quantidade de categorias finais\n",
        "  entradas = math.ceil((series.max() - minimo) / amplitude)\n",
        "  # lista que irá receber os limites de cada categoria\n",
        "  intervalo = []\n",
        "  for i in range(entradas):\n",
        "    # preenchendo a lista de intervalos\n",
        "    intervalo.append((minimo, minimo + amplitude))\n",
        "    # atualizando o minimo\n",
        "    minimo = minimo + amplitude\n",
        "  # lista que irá receber a classficação de cada entrada da series de entrada\n",
        "  lista_series = []\n",
        "  for linha_series in series:\n",
        "    for intervalo_passo in intervalo:\n",
        "      # classificando cada a series dentro os intervalos criados\n",
        "      if intervalo_passo[0] <= linha_series < intervalo_passo[1]:\n",
        "        # preenchendo a lista\n",
        "        if inteiro == True:\n",
        "          lista_series.append(f'{intervalo_passo[0]} ⊢ {intervalo_passo[1]}')\n",
        "        else:\n",
        "          lista_series.append(f'{intervalo_passo[0]:0.2f} ⊢ {intervalo_passo[1]:0.2f}')\n",
        "  return lista_series\n",
        "\n",
        "# adicionando a lista categoriazada, que retorna da função, ao dataframe\n",
        "dados['questao_3']['Categoria'] = tab_freq(dados['questao_3']['Salário (em salários mínimos)'],1,2,True)\n",
        "dados['questao_3']"
      ],
      "execution_count": 49,
      "outputs": [
        {
          "output_type": "execute_result",
          "data": {
            "text/html": [
              "<div>\n",
              "<style scoped>\n",
              "    .dataframe tbody tr th:only-of-type {\n",
              "        vertical-align: middle;\n",
              "    }\n",
              "\n",
              "    .dataframe tbody tr th {\n",
              "        vertical-align: top;\n",
              "    }\n",
              "\n",
              "    .dataframe thead th {\n",
              "        text-align: right;\n",
              "    }\n",
              "</style>\n",
              "<table border=\"1\" class=\"dataframe\">\n",
              "  <thead>\n",
              "    <tr style=\"text-align: right;\">\n",
              "      <th></th>\n",
              "      <th>Salário (em salários mínimos)</th>\n",
              "      <th>Categoria</th>\n",
              "    </tr>\n",
              "  </thead>\n",
              "  <tbody>\n",
              "    <tr>\n",
              "      <th>0</th>\n",
              "      <td>10.1</td>\n",
              "      <td>9 ⊢ 11</td>\n",
              "    </tr>\n",
              "    <tr>\n",
              "      <th>1</th>\n",
              "      <td>7.3</td>\n",
              "      <td>7 ⊢ 9</td>\n",
              "    </tr>\n",
              "    <tr>\n",
              "      <th>2</th>\n",
              "      <td>8.5</td>\n",
              "      <td>7 ⊢ 9</td>\n",
              "    </tr>\n",
              "    <tr>\n",
              "      <th>3</th>\n",
              "      <td>5.0</td>\n",
              "      <td>5 ⊢ 7</td>\n",
              "    </tr>\n",
              "    <tr>\n",
              "      <th>4</th>\n",
              "      <td>4.2</td>\n",
              "      <td>3 ⊢ 5</td>\n",
              "    </tr>\n",
              "    <tr>\n",
              "      <th>5</th>\n",
              "      <td>3.1</td>\n",
              "      <td>3 ⊢ 5</td>\n",
              "    </tr>\n",
              "    <tr>\n",
              "      <th>6</th>\n",
              "      <td>2.2</td>\n",
              "      <td>1 ⊢ 3</td>\n",
              "    </tr>\n",
              "    <tr>\n",
              "      <th>7</th>\n",
              "      <td>9.0</td>\n",
              "      <td>9 ⊢ 11</td>\n",
              "    </tr>\n",
              "    <tr>\n",
              "      <th>8</th>\n",
              "      <td>9.4</td>\n",
              "      <td>9 ⊢ 11</td>\n",
              "    </tr>\n",
              "    <tr>\n",
              "      <th>9</th>\n",
              "      <td>6.1</td>\n",
              "      <td>5 ⊢ 7</td>\n",
              "    </tr>\n",
              "    <tr>\n",
              "      <th>10</th>\n",
              "      <td>3.3</td>\n",
              "      <td>3 ⊢ 5</td>\n",
              "    </tr>\n",
              "    <tr>\n",
              "      <th>11</th>\n",
              "      <td>10.7</td>\n",
              "      <td>9 ⊢ 11</td>\n",
              "    </tr>\n",
              "    <tr>\n",
              "      <th>12</th>\n",
              "      <td>1.5</td>\n",
              "      <td>1 ⊢ 3</td>\n",
              "    </tr>\n",
              "    <tr>\n",
              "      <th>13</th>\n",
              "      <td>8.2</td>\n",
              "      <td>7 ⊢ 9</td>\n",
              "    </tr>\n",
              "    <tr>\n",
              "      <th>14</th>\n",
              "      <td>10.0</td>\n",
              "      <td>9 ⊢ 11</td>\n",
              "    </tr>\n",
              "    <tr>\n",
              "      <th>15</th>\n",
              "      <td>4.7</td>\n",
              "      <td>3 ⊢ 5</td>\n",
              "    </tr>\n",
              "    <tr>\n",
              "      <th>16</th>\n",
              "      <td>3.5</td>\n",
              "      <td>3 ⊢ 5</td>\n",
              "    </tr>\n",
              "    <tr>\n",
              "      <th>17</th>\n",
              "      <td>6.5</td>\n",
              "      <td>5 ⊢ 7</td>\n",
              "    </tr>\n",
              "    <tr>\n",
              "      <th>18</th>\n",
              "      <td>8.9</td>\n",
              "      <td>7 ⊢ 9</td>\n",
              "    </tr>\n",
              "    <tr>\n",
              "      <th>19</th>\n",
              "      <td>6.1</td>\n",
              "      <td>5 ⊢ 7</td>\n",
              "    </tr>\n",
              "  </tbody>\n",
              "</table>\n",
              "</div>"
            ],
            "text/plain": [
              "    Salário (em salários mínimos) Categoria\n",
              "0                            10.1    9 ⊢ 11\n",
              "1                             7.3     7 ⊢ 9\n",
              "2                             8.5     7 ⊢ 9\n",
              "3                             5.0     5 ⊢ 7\n",
              "4                             4.2     3 ⊢ 5\n",
              "5                             3.1     3 ⊢ 5\n",
              "6                             2.2     1 ⊢ 3\n",
              "7                             9.0    9 ⊢ 11\n",
              "8                             9.4    9 ⊢ 11\n",
              "9                             6.1     5 ⊢ 7\n",
              "10                            3.3     3 ⊢ 5\n",
              "11                           10.7    9 ⊢ 11\n",
              "12                            1.5     1 ⊢ 3\n",
              "13                            8.2     7 ⊢ 9\n",
              "14                           10.0    9 ⊢ 11\n",
              "15                            4.7     3 ⊢ 5\n",
              "16                            3.5     3 ⊢ 5\n",
              "17                            6.5     5 ⊢ 7\n",
              "18                            8.9     7 ⊢ 9\n",
              "19                            6.1     5 ⊢ 7"
            ]
          },
          "metadata": {},
          "execution_count": 49
        }
      ]
    },
    {
      "cell_type": "markdown",
      "metadata": {
        "id": "Xgs5k-I7ckPS"
      },
      "source": [
        "#### Tabela de frequência de Salário"
      ]
    },
    {
      "cell_type": "code",
      "metadata": {
        "id": "h41oj0jLW5HO",
        "colab": {
          "base_uri": "https://localhost:8080/",
          "height": 238
        },
        "outputId": "ca124c11-589e-4a33-c7f5-35607e477c41"
      },
      "source": [
        "# criando a tabela de frequência de salário\n",
        "tab_freq_salario = pd.crosstab(index = dados['questao_3'].Categoria,\n",
        "            columns = 'Frequência Absoluta',\n",
        "            colnames = [''])\n",
        "tab_freq_salario['Frequência Relativa'] = tab_freq_salario / tab_freq_salario.sum()\n",
        "tab_freq_salario"
      ],
      "execution_count": 50,
      "outputs": [
        {
          "output_type": "execute_result",
          "data": {
            "text/html": [
              "<div>\n",
              "<style scoped>\n",
              "    .dataframe tbody tr th:only-of-type {\n",
              "        vertical-align: middle;\n",
              "    }\n",
              "\n",
              "    .dataframe tbody tr th {\n",
              "        vertical-align: top;\n",
              "    }\n",
              "\n",
              "    .dataframe thead th {\n",
              "        text-align: right;\n",
              "    }\n",
              "</style>\n",
              "<table border=\"1\" class=\"dataframe\">\n",
              "  <thead>\n",
              "    <tr style=\"text-align: right;\">\n",
              "      <th></th>\n",
              "      <th>Frequência Absoluta</th>\n",
              "      <th>Frequência Relativa</th>\n",
              "    </tr>\n",
              "    <tr>\n",
              "      <th>Categoria</th>\n",
              "      <th></th>\n",
              "      <th></th>\n",
              "    </tr>\n",
              "  </thead>\n",
              "  <tbody>\n",
              "    <tr>\n",
              "      <th>1 ⊢ 3</th>\n",
              "      <td>2</td>\n",
              "      <td>0.10</td>\n",
              "    </tr>\n",
              "    <tr>\n",
              "      <th>3 ⊢ 5</th>\n",
              "      <td>5</td>\n",
              "      <td>0.25</td>\n",
              "    </tr>\n",
              "    <tr>\n",
              "      <th>5 ⊢ 7</th>\n",
              "      <td>4</td>\n",
              "      <td>0.20</td>\n",
              "    </tr>\n",
              "    <tr>\n",
              "      <th>7 ⊢ 9</th>\n",
              "      <td>4</td>\n",
              "      <td>0.20</td>\n",
              "    </tr>\n",
              "    <tr>\n",
              "      <th>9 ⊢ 11</th>\n",
              "      <td>5</td>\n",
              "      <td>0.25</td>\n",
              "    </tr>\n",
              "  </tbody>\n",
              "</table>\n",
              "</div>"
            ],
            "text/plain": [
              "           Frequência Absoluta  Frequência Relativa\n",
              "Categoria                                          \n",
              "1 ⊢ 3                        2                 0.10\n",
              "3 ⊢ 5                        5                 0.25\n",
              "5 ⊢ 7                        4                 0.20\n",
              "7 ⊢ 9                        4                 0.20\n",
              "9 ⊢ 11                       5                 0.25"
            ]
          },
          "metadata": {},
          "execution_count": 50
        }
      ]
    },
    {
      "cell_type": "markdown",
      "metadata": {
        "id": "Wp6a_B5BcoOC"
      },
      "source": [
        "### b)"
      ]
    },
    {
      "cell_type": "code",
      "metadata": {
        "id": "N-ByszKRb6SC",
        "colab": {
          "base_uri": "https://localhost:8080/",
          "height": 502
        },
        "outputId": "990d7f61-a416-4d46-943c-4c0ae4328375"
      },
      "source": [
        "sns.histplot(data = dados['questao_3'].sort_values(by='Categoria'),\n",
        "             x = 'Categoria');"
      ],
      "execution_count": 51,
      "outputs": [
        {
          "output_type": "display_data",
          "data": {
            "image/png": "[encoded data removed]",
            "text/plain": [
              "<Figure size 792x576 with 1 Axes>"
            ]
          },
          "metadata": {}
        }
      ]
    },
    {
      "cell_type": "code",
      "metadata": {
        "id": "EC3puxbkc43G",
        "colab": {
          "base_uri": "https://localhost:8080/",
          "height": 502
        },
        "outputId": "189df314-e2f6-4b95-b9a2-51acfe07c719"
      },
      "source": [
        "# fazendo de outra maneira podemos \n",
        "sns.histplot(data = dados['questao_3'],\n",
        "             x = 'Salário (em salários mínimos)',\n",
        "             # considerando amplitude = 2\n",
        "             binwidth = 2,\n",
        "             # como o minimo é 1 e amplitude = 2 então o máximo será 11\n",
        "             binrange = (1,11));"
      ],
      "execution_count": 52,
      "outputs": [
        {
          "output_type": "display_data",
          "data": {
            "image/png": "[encoded data removed]",
            "text/plain": [
              "<Figure size 792x576 with 1 Axes>"
            ]
          },
          "metadata": {}
        }
      ]
    },
    {
      "cell_type": "code",
      "metadata": {
        "id": "GlxELNwy_uW4",
        "colab": {
          "base_uri": "https://localhost:8080/"
        },
        "outputId": "c6125a49-9ce7-447e-fca0-0dcb755ea64c"
      },
      "source": [
        "import numpy as np\n",
        "\n",
        "print('1º quantil: ', np.quantile(dados['questao_3']['Salário (em salários mínimos)'],0.01))\n",
        "print('32º quantil: ', np.quantile(dados['questao_3']['Salário (em salários mínimos)'],0.32))"
      ],
      "execution_count": 53,
      "outputs": [
        {
          "output_type": "stream",
          "name": "stdout",
          "text": [
            "1º quantil:  1.633\n",
            "32º quantil:  4.724\n"
          ]
        }
      ]
    },
    {
      "cell_type": "markdown",
      "metadata": {
        "id": "Lj5BXC__BHFs"
      },
      "source": [
        "### c)"
      ]
    },
    {
      "cell_type": "code",
      "metadata": {
        "id": "O5RWvyGR_ywP",
        "colab": {
          "base_uri": "https://localhost:8080/",
          "height": 502
        },
        "outputId": "fa04faf2-cbdd-481d-a6c1-d36933c03923"
      },
      "source": [
        "sns.boxplot(x = dados['questao_3']['Salário (em salários mínimos)']);\n",
        "#sns.swarmplot(x = dados['questao_3']['Salário (em salários mínimos)'], color= '.25');"
      ],
      "execution_count": 54,
      "outputs": [
        {
          "output_type": "display_data",
          "data": {
            "image/png": "[encoded data removed]",
            "text/plain": [
              "<Figure size 792x576 with 1 Axes>"
            ]
          },
          "metadata": {}
        }
      ]
    },
    {
      "cell_type": "markdown",
      "metadata": {
        "id": "GpYO3bOyCeYt"
      },
      "source": [
        "# Exercício 04\n",
        "<center><img width=\"70%\" src=\"https://cdn.loom.com/images/originals/9642d9732c7c4b7295efe33d92692248.jpg?Expires=1638231249&Policy=eyJTdGF0ZW1lbnQiOlt7IlJlc291cmNlIjoiaHR0cHM6Ly9jZG4ubG9vbS5jb20vaW1hZ2VzL29yaWdpbmFscy85NjQyZDk3MzJjN2M0YjcyOTVlZmUzM2Q5MjY5MjI0OC5qcGciLCJDb25kaXRpb24iOnsiRGF0ZUxlc3NUaGFuIjp7IkFXUzpFcG9jaFRpbWUiOjE2MzgyMzEyNDl9fX1dfQ__&Signature=OSlqD~z1V05~JJ8xsh9KrXyD9h1Xyhu3AlAHZdP3qRmncAMmJjU9pG0MNZzltph~6HRVTRJM9wlRGb76Bv7Xwu8EM8ateoGqmMkzgYfG3L0MxZ1bSEk4JzqSELKgiQWxMRZ6vjJTFhE9Fo36IXLKXpRih9LeB6RS5FvRMQ14eOkYRochGhCd1Ca7RAdvMm73tGl~89PyncyzYjMIqusH~9mgGQlDIUXJ5hLjMag9wj8u2eg36pwS-aJEZETyaSCyTmWZbACRaIwspEiOZRaP5EPwZiUVgbNQdFmHXRiWQO3TqBzGKbpBXaoe2l1SrX0frsnmSG3VrCGCqGm7zwdQgQ__&Key-Pair-Id=APKAJQIC5BGSW7XXK7FQ\"></center>"
      ]
    },
    {
      "cell_type": "code",
      "metadata": {
        "id": "mS-6sQC4BOKz",
        "colab": {
          "base_uri": "https://localhost:8080/",
          "height": 206
        },
        "outputId": "e5928835-cd08-4ad0-e218-d9ba97e3b56c"
      },
      "source": [
        "dados['questao_4']"
      ],
      "execution_count": 55,
      "outputs": [
        {
          "output_type": "execute_result",
          "data": {
            "text/html": [
              "<div>\n",
              "<style scoped>\n",
              "    .dataframe tbody tr th:only-of-type {\n",
              "        vertical-align: middle;\n",
              "    }\n",
              "\n",
              "    .dataframe tbody tr th {\n",
              "        vertical-align: top;\n",
              "    }\n",
              "\n",
              "    .dataframe thead th {\n",
              "        text-align: right;\n",
              "    }\n",
              "</style>\n",
              "<table border=\"1\" class=\"dataframe\">\n",
              "  <thead>\n",
              "    <tr style=\"text-align: right;\">\n",
              "      <th></th>\n",
              "      <th>Peso (kg)</th>\n",
              "      <th>Frequência</th>\n",
              "    </tr>\n",
              "  </thead>\n",
              "  <tbody>\n",
              "    <tr>\n",
              "      <th>0</th>\n",
              "      <td>0 |— 2</td>\n",
              "      <td>14</td>\n",
              "    </tr>\n",
              "    <tr>\n",
              "      <th>1</th>\n",
              "      <td>2 |— 4</td>\n",
              "      <td>28</td>\n",
              "    </tr>\n",
              "    <tr>\n",
              "      <th>2</th>\n",
              "      <td>4 |— 6</td>\n",
              "      <td>27</td>\n",
              "    </tr>\n",
              "    <tr>\n",
              "      <th>3</th>\n",
              "      <td>6 |— 8</td>\n",
              "      <td>11</td>\n",
              "    </tr>\n",
              "    <tr>\n",
              "      <th>4</th>\n",
              "      <td>8 |— 10</td>\n",
              "      <td>4</td>\n",
              "    </tr>\n",
              "  </tbody>\n",
              "</table>\n",
              "</div>"
            ],
            "text/plain": [
              "  Peso (kg)  Frequência\n",
              "0    0 |— 2          14\n",
              "1    2 |— 4          28\n",
              "2    4 |— 6          27\n",
              "3    6 |— 8          11\n",
              "4   8 |— 10           4"
            ]
          },
          "metadata": {},
          "execution_count": 55
        }
      ]
    },
    {
      "cell_type": "markdown",
      "metadata": {
        "id": "OLLcHaJFNRKu"
      },
      "source": [
        "## a) Como já estava organizado por frequência, optou-se por um glafico de barras"
      ]
    },
    {
      "cell_type": "code",
      "metadata": {
        "id": "GV3XHQhKCwtD",
        "colab": {
          "base_uri": "https://localhost:8080/",
          "height": 503
        },
        "outputId": "527a15dc-5362-4dc5-f12e-e64f6dfd84ab"
      },
      "source": [
        "sns.barplot(data = dados['questao_4'],\n",
        "            x = 'Peso (kg)',\n",
        "            y = 'Frequência');"
      ],
      "execution_count": 56,
      "outputs": [
        {
          "output_type": "display_data",
          "data": {
            "image/png": "[encoded data removed]",
            "text/plain": [
              "<Figure size 792x576 with 1 Axes>"
            ]
          },
          "metadata": {}
        }
      ]
    },
    {
      "cell_type": "markdown",
      "metadata": {
        "id": "O1Ui8laoNY6O"
      },
      "source": [
        "## b) Dividir as entradas de 4 a 6 por 2 ?"
      ]
    },
    {
      "cell_type": "code",
      "metadata": {
        "id": "fJ8H7RE4Nagm"
      },
      "source": [
        ""
      ],
      "execution_count": 56,
      "outputs": []
    },
    {
      "cell_type": "markdown",
      "metadata": {
        "id": "bg5bb987NExu"
      },
      "source": [
        "## c) Foi gerado valores aleatórios respeitando os intervalos e a frequência"
      ]
    },
    {
      "cell_type": "code",
      "metadata": {
        "id": "BKfMD7JYDqnl",
        "colab": {
          "base_uri": "https://localhost:8080/",
          "height": 485
        },
        "outputId": "cfccf6bf-564c-4200-fe96-807d85487142"
      },
      "source": [
        "import random\n",
        "intervalo = [(0, 2), (2, 4), (4, 6), (6, 8), (8, 10)]\n",
        "valores = []\n",
        "for posicao in range(len(intervalo)):\n",
        "  for linha in range(dados['questao_4']['Frequência'][posicao]):\n",
        "    valores.append(random.randint(intervalo[posicao][0],intervalo[posicao][1]-1) + np.random.random())\n",
        "sns.boxplot(x = valores);\n",
        "#sns.swarmplot(x = dados['questao_3']['Salário (em salários mínimos)'], color= '.25');"
      ],
      "execution_count": 57,
      "outputs": [
        {
          "output_type": "display_data",
          "data": {
            "image/png": "[encoded data removed]",
            "text/plain": [
              "<Figure size 792x576 with 1 Axes>"
            ]
          },
          "metadata": {}
        }
      ]
    },
    {
      "cell_type": "markdown",
      "metadata": {
        "id": "e_kkDX82NpXO"
      },
      "source": [
        "# Exercício 05\n",
        "<center><img width=\"70%\" src=\"https://cdn.loom.com/images/originals/ba3512e199ae4aa791c11fd996e40356.jpg?Expires=1638234116&Policy=eyJTdGF0ZW1lbnQiOlt7IlJlc291cmNlIjoiaHR0cHM6Ly9jZG4ubG9vbS5jb20vaW1hZ2VzL29yaWdpbmFscy9iYTM1MTJlMTk5YWU0YWE3OTFjMTFmZDk5NmU0MDM1Ni5qcGciLCJDb25kaXRpb24iOnsiRGF0ZUxlc3NUaGFuIjp7IkFXUzpFcG9jaFRpbWUiOjE2MzgyMzQxMTZ9fX1dfQ__&Signature=AzIe2z-HLVS4Uhw4Upnd7A747Fu~qqIMET971-QvhrXvwJInzelrZYi5DGlnFyobCuDu7nrAvthfZMJ16x9fFISngk0gWmgsWqC~EVOCjOElyOzOYpJ2ZCEutR-blm687~hjR6NM2jcNaVIVXHpbEwi0c9CvHRJ~ufRvYBFe3VgjLDpvDx4eGZ73pOrtTckNlqvLBr0zb8a6AxBaIGtXFQss8PGpp14axJMwzptc4y5VvwaVLb-bt~tBsuemOfM0Yfz6VstLB9UHYF-rVheJ-~End7LWopCio8opNzdZ-1Dwjldqx7~z0LSLQIJyDqu7FIQsxk2iNUQQxGB6gz-73w__&Key-Pair-Id=APKAJQIC5BGSW7XXK7FQ\"></center>"
      ]
    },
    {
      "cell_type": "code",
      "metadata": {
        "id": "SHHzeNk7NpMn",
        "colab": {
          "base_uri": "https://localhost:8080/",
          "height": 206
        },
        "outputId": "546fccee-a543-419c-ffbc-a3b9e104f5ef"
      },
      "source": [
        "dados['questao_5'].rename(columns = {'Peso (kg)': 'Quilômetros (Km)'}, inplace = True)\n",
        "dados['questao_5']"
      ],
      "execution_count": 58,
      "outputs": [
        {
          "output_type": "execute_result",
          "data": {
            "text/html": [
              "<div>\n",
              "<style scoped>\n",
              "    .dataframe tbody tr th:only-of-type {\n",
              "        vertical-align: middle;\n",
              "    }\n",
              "\n",
              "    .dataframe tbody tr th {\n",
              "        vertical-align: top;\n",
              "    }\n",
              "\n",
              "    .dataframe thead th {\n",
              "        text-align: right;\n",
              "    }\n",
              "</style>\n",
              "<table border=\"1\" class=\"dataframe\">\n",
              "  <thead>\n",
              "    <tr style=\"text-align: right;\">\n",
              "      <th></th>\n",
              "      <th>Quilômetros (Km)</th>\n",
              "      <th>Frequência</th>\n",
              "    </tr>\n",
              "  </thead>\n",
              "  <tbody>\n",
              "    <tr>\n",
              "      <th>0</th>\n",
              "      <td>0 |— 4</td>\n",
              "      <td>438</td>\n",
              "    </tr>\n",
              "    <tr>\n",
              "      <th>1</th>\n",
              "      <td>4 |— 8</td>\n",
              "      <td>206</td>\n",
              "    </tr>\n",
              "    <tr>\n",
              "      <th>2</th>\n",
              "      <td>8 |— 12</td>\n",
              "      <td>125</td>\n",
              "    </tr>\n",
              "    <tr>\n",
              "      <th>3</th>\n",
              "      <td>12 |— 16</td>\n",
              "      <td>22</td>\n",
              "    </tr>\n",
              "    <tr>\n",
              "      <th>4</th>\n",
              "      <td>16 |— 20</td>\n",
              "      <td>9</td>\n",
              "    </tr>\n",
              "  </tbody>\n",
              "</table>\n",
              "</div>"
            ],
            "text/plain": [
              "  Quilômetros (Km)  Frequência\n",
              "0           0 |— 4         438\n",
              "1           4 |— 8         206\n",
              "2          8 |— 12         125\n",
              "3         12 |— 16          22\n",
              "4         16 |— 20           9"
            ]
          },
          "metadata": {},
          "execution_count": 58
        }
      ]
    },
    {
      "cell_type": "markdown",
      "metadata": {
        "id": "j2BJIVTWOGgO"
      },
      "source": [
        "## a) A quantidade de km que os alunos percorreram sem parar - variável quantitativa contínua."
      ]
    },
    {
      "cell_type": "markdown",
      "metadata": {
        "id": "goefggFyPO9-"
      },
      "source": [
        "## b) Como já estava organizado por frequência, optou-se por um glafico de barras"
      ]
    },
    {
      "cell_type": "code",
      "metadata": {
        "id": "JvlwBA05NpIe",
        "colab": {
          "base_uri": "https://localhost:8080/",
          "height": 503
        },
        "outputId": "93bb01ed-a169-4f9c-ca83-9202cdb6e03b"
      },
      "source": [
        "sns.barplot(data = dados['questao_5'],\n",
        "            x = 'Quilômetros (Km)',\n",
        "            y = 'Frequência');"
      ],
      "execution_count": 59,
      "outputs": [
        {
          "output_type": "display_data",
          "data": {
            "image/png": "[encoded data removed]",
            "text/plain": [
              "<Figure size 792x576 with 1 Axes>"
            ]
          },
          "metadata": {}
        }
      ]
    },
    {
      "cell_type": "markdown",
      "metadata": {
        "id": "0Z31j9VaTW9f"
      },
      "source": [
        "### c)"
      ]
    },
    {
      "cell_type": "markdown",
      "metadata": {
        "id": "MHVyZqkzTY5e"
      },
      "source": [
        "#### Gerando números aleatórios respeitando os intervalos"
      ]
    },
    {
      "cell_type": "code",
      "metadata": {
        "id": "gyx-PEIsKR_z",
        "colab": {
          "base_uri": "https://localhost:8080/"
        },
        "outputId": "49c943c8-d1d7-4461-c1f1-4be1e8873cf9"
      },
      "source": [
        "import random\n",
        "intervalo_q5 = [(0, 4), (4, 8), (8, 12), (12, 16), (16, 20)]\n",
        "valores_q5 = []\n",
        "for posicao in range(len(intervalo_q5)):\n",
        "  for linha in range(dados['questao_5']['Frequência'][posicao]):\n",
        "    valores_q5.append(random.randint(intervalo_q5[posicao][0],intervalo_q5[posicao][1]-1) + np.random.random())\n",
        "\n",
        "print('1º quantil: ', np.quantile(valores_q5,0.25))\n",
        "print('2º quantis: ', np.quantile(valores_q5,0.50))\n",
        "print('3º quantis: ', np.quantile(valores_q5,0.75))"
      ],
      "execution_count": 60,
      "outputs": [
        {
          "output_type": "stream",
          "name": "stdout",
          "text": [
            "1º quantil:  1.7917375178848824\n",
            "2º quantis:  3.609643581117833\n",
            "3º quantis:  7.039352730917107\n"
          ]
        }
      ]
    },
    {
      "cell_type": "markdown",
      "metadata": {
        "id": "AG6Ere1gTdQG"
      },
      "source": [
        "#### fazendo na mão considerando a tabela de frequência"
      ]
    },
    {
      "cell_type": "code",
      "metadata": {
        "id": "bafFD70TPtJh",
        "colab": {
          "base_uri": "https://localhost:8080/"
        },
        "outputId": "1fa86dda-0734-4f71-eac6-cf9ec11294ff"
      },
      "source": [
        "dados['questao_5']['Frequência'].sum() * .25 / 438 * 4\n",
        "print('1º quantil: ', dados['questao_5']['Frequência'].sum() * .25 / 438 * 4)\n",
        "print('2º quantis: ', dados['questao_5']['Frequência'].sum() * .5 / 438 * 4)\n",
        "print('3º quantis: ', (dados['questao_5']['Frequência'].sum() * .75 - 438 ) / 206 * 4 + 4)"
      ],
      "execution_count": 61,
      "outputs": [
        {
          "output_type": "stream",
          "name": "stdout",
          "text": [
            "1º quantil:  1.82648401826484\n",
            "2º quantis:  3.65296803652968\n",
            "3º quantis:  7.145631067961165\n"
          ]
        }
      ]
    },
    {
      "cell_type": "markdown",
      "metadata": {
        "id": "Iu97wD2wTwiG"
      },
      "source": [
        "# Exercício 06\n",
        "<center><img width=\"70%\" src=\"https://cdn.loom.com/images/originals/15c185b36eb5485e9613c67bcb2a1d09.jpg?Expires=1638235755&Policy=eyJTdGF0ZW1lbnQiOlt7IlJlc291cmNlIjoiaHR0cHM6Ly9jZG4ubG9vbS5jb20vaW1hZ2VzL29yaWdpbmFscy8xNWMxODViMzZlYjU0ODVlOTYxM2M2N2JjYjJhMWQwOS5qcGciLCJDb25kaXRpb24iOnsiRGF0ZUxlc3NUaGFuIjp7IkFXUzpFcG9jaFRpbWUiOjE2MzgyMzU3NTV9fX1dfQ__&Signature=pcR07sSGeoBx24Aul22XE6vCXc~2qp89qHPuy~sL8mL-pVq-aZ4O0YZA0V~PEeVpAfnWZzOcIJq7kcLYHkL4osarTkeMfmXXMwnhD71AqvamwCsS9MMUVI~vDh-UiCMcSV2F-D0bcVi9lPnc~Lg3TRTjOYayimZQS38HN3VN7sZtiAd3TCYyVjO33GCOnI2OKZpxosqroCue9z5NkWHfZaM5rdYeGq4J-vXXuQLtP15BqVrbI51u4l~fEXRykdJMuChXsUi2dLds2FyYZdDLK9wvXSsuGf4QKr4F5Q-xzCaPNGQSvlAS~ORu1yc9X6P-P5VL62vZ7bbpHqwxvHxyGg__&Key-Pair-Id=APKAJQIC5BGSW7XXK7FQ\"></center>"
      ]
    },
    {
      "cell_type": "markdown",
      "metadata": {
        "id": "IFovbfZyX_6-"
      },
      "source": [
        "### a) Organizandos os dados com base na função já criada"
      ]
    },
    {
      "cell_type": "code",
      "metadata": {
        "id": "R15J-Gp4RKA1"
      },
      "source": [
        "dados['questao_6']['Categoria'] = tab_freq(dados['questao_6']['Valor médio'],6,0.4,False)"
      ],
      "execution_count": 62,
      "outputs": []
    },
    {
      "cell_type": "code",
      "metadata": {
        "id": "_tj0ueB-R5--",
        "colab": {
          "base_uri": "https://localhost:8080/",
          "height": 1000
        },
        "outputId": "9519bfe1-71d0-4fe2-a505-3563a5b50144"
      },
      "source": [
        "dados['questao_6']"
      ],
      "execution_count": 63,
      "outputs": [
        {
          "output_type": "execute_result",
          "data": {
            "text/html": [
              "<div>\n",
              "<style scoped>\n",
              "    .dataframe tbody tr th:only-of-type {\n",
              "        vertical-align: middle;\n",
              "    }\n",
              "\n",
              "    .dataframe tbody tr th {\n",
              "        vertical-align: top;\n",
              "    }\n",
              "\n",
              "    .dataframe thead th {\n",
              "        text-align: right;\n",
              "    }\n",
              "</style>\n",
              "<table border=\"1\" class=\"dataframe\">\n",
              "  <thead>\n",
              "    <tr style=\"text-align: right;\">\n",
              "      <th></th>\n",
              "      <th>Valor médio</th>\n",
              "      <th>Categoria</th>\n",
              "    </tr>\n",
              "  </thead>\n",
              "  <tbody>\n",
              "    <tr>\n",
              "      <th>0</th>\n",
              "      <td>6.1</td>\n",
              "      <td>6.00 ⊢ 6.40</td>\n",
              "    </tr>\n",
              "    <tr>\n",
              "      <th>1</th>\n",
              "      <td>6.2</td>\n",
              "      <td>6.00 ⊢ 6.40</td>\n",
              "    </tr>\n",
              "    <tr>\n",
              "      <th>2</th>\n",
              "      <td>6.7</td>\n",
              "      <td>6.40 ⊢ 6.80</td>\n",
              "    </tr>\n",
              "    <tr>\n",
              "      <th>3</th>\n",
              "      <td>6.5</td>\n",
              "      <td>6.40 ⊢ 6.80</td>\n",
              "    </tr>\n",
              "    <tr>\n",
              "      <th>4</th>\n",
              "      <td>6.9</td>\n",
              "      <td>6.80 ⊢ 7.20</td>\n",
              "    </tr>\n",
              "    <tr>\n",
              "      <th>5</th>\n",
              "      <td>6.3</td>\n",
              "      <td>6.00 ⊢ 6.40</td>\n",
              "    </tr>\n",
              "    <tr>\n",
              "      <th>6</th>\n",
              "      <td>7.4</td>\n",
              "      <td>7.20 ⊢ 7.60</td>\n",
              "    </tr>\n",
              "    <tr>\n",
              "      <th>7</th>\n",
              "      <td>7.6</td>\n",
              "      <td>7.20 ⊢ 7.60</td>\n",
              "    </tr>\n",
              "    <tr>\n",
              "      <th>8</th>\n",
              "      <td>7.7</td>\n",
              "      <td>7.60 ⊢ 8.00</td>\n",
              "    </tr>\n",
              "    <tr>\n",
              "      <th>9</th>\n",
              "      <td>7.6</td>\n",
              "      <td>7.20 ⊢ 7.60</td>\n",
              "    </tr>\n",
              "    <tr>\n",
              "      <th>10</th>\n",
              "      <td>7.3</td>\n",
              "      <td>7.20 ⊢ 7.60</td>\n",
              "    </tr>\n",
              "    <tr>\n",
              "      <th>11</th>\n",
              "      <td>7.7</td>\n",
              "      <td>7.60 ⊢ 8.00</td>\n",
              "    </tr>\n",
              "    <tr>\n",
              "      <th>12</th>\n",
              "      <td>7.6</td>\n",
              "      <td>7.20 ⊢ 7.60</td>\n",
              "    </tr>\n",
              "    <tr>\n",
              "      <th>13</th>\n",
              "      <td>7.4</td>\n",
              "      <td>7.20 ⊢ 7.60</td>\n",
              "    </tr>\n",
              "    <tr>\n",
              "      <th>14</th>\n",
              "      <td>7.2</td>\n",
              "      <td>6.80 ⊢ 7.20</td>\n",
              "    </tr>\n",
              "    <tr>\n",
              "      <th>15</th>\n",
              "      <td>7.2</td>\n",
              "      <td>6.80 ⊢ 7.20</td>\n",
              "    </tr>\n",
              "    <tr>\n",
              "      <th>16</th>\n",
              "      <td>7.3</td>\n",
              "      <td>7.20 ⊢ 7.60</td>\n",
              "    </tr>\n",
              "    <tr>\n",
              "      <th>17</th>\n",
              "      <td>7.6</td>\n",
              "      <td>7.20 ⊢ 7.60</td>\n",
              "    </tr>\n",
              "    <tr>\n",
              "      <th>18</th>\n",
              "      <td>7.5</td>\n",
              "      <td>7.20 ⊢ 7.60</td>\n",
              "    </tr>\n",
              "    <tr>\n",
              "      <th>19</th>\n",
              "      <td>7.4</td>\n",
              "      <td>7.20 ⊢ 7.60</td>\n",
              "    </tr>\n",
              "    <tr>\n",
              "      <th>20</th>\n",
              "      <td>7.5</td>\n",
              "      <td>7.20 ⊢ 7.60</td>\n",
              "    </tr>\n",
              "    <tr>\n",
              "      <th>21</th>\n",
              "      <td>7.7</td>\n",
              "      <td>7.60 ⊢ 8.00</td>\n",
              "    </tr>\n",
              "    <tr>\n",
              "      <th>22</th>\n",
              "      <td>8.2</td>\n",
              "      <td>8.00 ⊢ 8.40</td>\n",
              "    </tr>\n",
              "    <tr>\n",
              "      <th>23</th>\n",
              "      <td>8.3</td>\n",
              "      <td>8.00 ⊢ 8.40</td>\n",
              "    </tr>\n",
              "    <tr>\n",
              "      <th>24</th>\n",
              "      <td>8.1</td>\n",
              "      <td>8.00 ⊢ 8.40</td>\n",
              "    </tr>\n",
              "    <tr>\n",
              "      <th>25</th>\n",
              "      <td>8.1</td>\n",
              "      <td>8.00 ⊢ 8.40</td>\n",
              "    </tr>\n",
              "    <tr>\n",
              "      <th>26</th>\n",
              "      <td>8.1</td>\n",
              "      <td>8.00 ⊢ 8.40</td>\n",
              "    </tr>\n",
              "    <tr>\n",
              "      <th>27</th>\n",
              "      <td>7.9</td>\n",
              "      <td>7.60 ⊢ 8.00</td>\n",
              "    </tr>\n",
              "    <tr>\n",
              "      <th>28</th>\n",
              "      <td>7.8</td>\n",
              "      <td>7.60 ⊢ 8.00</td>\n",
              "    </tr>\n",
              "    <tr>\n",
              "      <th>29</th>\n",
              "      <td>7.4</td>\n",
              "      <td>7.20 ⊢ 7.60</td>\n",
              "    </tr>\n",
              "    <tr>\n",
              "      <th>30</th>\n",
              "      <td>7.5</td>\n",
              "      <td>7.20 ⊢ 7.60</td>\n",
              "    </tr>\n",
              "    <tr>\n",
              "      <th>31</th>\n",
              "      <td>7.6</td>\n",
              "      <td>7.20 ⊢ 7.60</td>\n",
              "    </tr>\n",
              "    <tr>\n",
              "      <th>32</th>\n",
              "      <td>7.5</td>\n",
              "      <td>7.20 ⊢ 7.60</td>\n",
              "    </tr>\n",
              "    <tr>\n",
              "      <th>33</th>\n",
              "      <td>7.6</td>\n",
              "      <td>7.20 ⊢ 7.60</td>\n",
              "    </tr>\n",
              "    <tr>\n",
              "      <th>34</th>\n",
              "      <td>7.4</td>\n",
              "      <td>7.20 ⊢ 7.60</td>\n",
              "    </tr>\n",
              "    <tr>\n",
              "      <th>35</th>\n",
              "      <td>7.3</td>\n",
              "      <td>7.20 ⊢ 7.60</td>\n",
              "    </tr>\n",
              "    <tr>\n",
              "      <th>36</th>\n",
              "      <td>7.4</td>\n",
              "      <td>7.20 ⊢ 7.60</td>\n",
              "    </tr>\n",
              "    <tr>\n",
              "      <th>37</th>\n",
              "      <td>7.5</td>\n",
              "      <td>7.20 ⊢ 7.60</td>\n",
              "    </tr>\n",
              "    <tr>\n",
              "      <th>38</th>\n",
              "      <td>7.5</td>\n",
              "      <td>7.20 ⊢ 7.60</td>\n",
              "    </tr>\n",
              "    <tr>\n",
              "      <th>39</th>\n",
              "      <td>7.4</td>\n",
              "      <td>7.20 ⊢ 7.60</td>\n",
              "    </tr>\n",
              "  </tbody>\n",
              "</table>\n",
              "</div>"
            ],
            "text/plain": [
              "    Valor médio    Categoria\n",
              "0           6.1  6.00 ⊢ 6.40\n",
              "1           6.2  6.00 ⊢ 6.40\n",
              "2           6.7  6.40 ⊢ 6.80\n",
              "3           6.5  6.40 ⊢ 6.80\n",
              "4           6.9  6.80 ⊢ 7.20\n",
              "5           6.3  6.00 ⊢ 6.40\n",
              "6           7.4  7.20 ⊢ 7.60\n",
              "7           7.6  7.20 ⊢ 7.60\n",
              "8           7.7  7.60 ⊢ 8.00\n",
              "9           7.6  7.20 ⊢ 7.60\n",
              "10          7.3  7.20 ⊢ 7.60\n",
              "11          7.7  7.60 ⊢ 8.00\n",
              "12          7.6  7.20 ⊢ 7.60\n",
              "13          7.4  7.20 ⊢ 7.60\n",
              "14          7.2  6.80 ⊢ 7.20\n",
              "15          7.2  6.80 ⊢ 7.20\n",
              "16          7.3  7.20 ⊢ 7.60\n",
              "17          7.6  7.20 ⊢ 7.60\n",
              "18          7.5  7.20 ⊢ 7.60\n",
              "19          7.4  7.20 ⊢ 7.60\n",
              "20          7.5  7.20 ⊢ 7.60\n",
              "21          7.7  7.60 ⊢ 8.00\n",
              "22          8.2  8.00 ⊢ 8.40\n",
              "23          8.3  8.00 ⊢ 8.40\n",
              "24          8.1  8.00 ⊢ 8.40\n",
              "25          8.1  8.00 ⊢ 8.40\n",
              "26          8.1  8.00 ⊢ 8.40\n",
              "27          7.9  7.60 ⊢ 8.00\n",
              "28          7.8  7.60 ⊢ 8.00\n",
              "29          7.4  7.20 ⊢ 7.60\n",
              "30          7.5  7.20 ⊢ 7.60\n",
              "31          7.6  7.20 ⊢ 7.60\n",
              "32          7.5  7.20 ⊢ 7.60\n",
              "33          7.6  7.20 ⊢ 7.60\n",
              "34          7.4  7.20 ⊢ 7.60\n",
              "35          7.3  7.20 ⊢ 7.60\n",
              "36          7.4  7.20 ⊢ 7.60\n",
              "37          7.5  7.20 ⊢ 7.60\n",
              "38          7.5  7.20 ⊢ 7.60\n",
              "39          7.4  7.20 ⊢ 7.60"
            ]
          },
          "metadata": {},
          "execution_count": 63
        }
      ]
    },
    {
      "cell_type": "markdown",
      "metadata": {
        "id": "6fS35tlBYIOo"
      },
      "source": [
        "### b)"
      ]
    },
    {
      "cell_type": "code",
      "metadata": {
        "id": "ODWlYvzgWyMv",
        "colab": {
          "base_uri": "https://localhost:8080/",
          "height": 502
        },
        "outputId": "41478152-619a-41f6-e3cc-d409d9e2ac3c"
      },
      "source": [
        "sns.histplot(data = dados['questao_6'],\n",
        "             x = 'Categoria');"
      ],
      "execution_count": 64,
      "outputs": [
        {
          "output_type": "display_data",
          "data": {
            "image/png": "[encoded data removed]",
            "text/plain": [
              "<Figure size 792x576 with 1 Axes>"
            ]
          },
          "metadata": {}
        }
      ]
    },
    {
      "cell_type": "code",
      "metadata": {
        "id": "pN8CKQmSUUBX",
        "colab": {
          "base_uri": "https://localhost:8080/",
          "height": 502
        },
        "outputId": "52748089-f02b-4972-b21c-3a443769ea11"
      },
      "source": [
        "# fazendo de outra maneira podemos \n",
        "sns.histplot(data = dados['questao_6'],\n",
        "             x = 'Valor médio',\n",
        "             # considerando amplitude = 2\n",
        "             binwidth = 0.4,\n",
        "             # como o minimo é 1 e amplitude = 2 então o máximo será 11\n",
        "             binrange = (6,8.4));"
      ],
      "execution_count": 65,
      "outputs": [
        {
          "output_type": "display_data",
          "data": {
            "image/png": "[encoded data removed]",
            "text/plain": [
              "<Figure size 792x576 with 1 Axes>"
            ]
          },
          "metadata": {}
        }
      ]
    },
    {
      "cell_type": "code",
      "metadata": {
        "id": "7Z0UAOXbYdf1",
        "colab": {
          "base_uri": "https://localhost:8080/"
        },
        "outputId": "37c28c48-40e0-4695-a440-79d111b2094b"
      },
      "source": [
        "print('O segundo quartil vale: ', np.quantile(dados['questao_6']['Valor médio'], 0.5))"
      ],
      "execution_count": 66,
      "outputs": [
        {
          "output_type": "stream",
          "name": "stdout",
          "text": [
            "O segundo quartil vale:  7.5\n"
          ]
        }
      ]
    },
    {
      "cell_type": "markdown",
      "metadata": {
        "id": "ilnRMSmPYMgv"
      },
      "source": [
        "### d)"
      ]
    },
    {
      "cell_type": "code",
      "metadata": {
        "id": "7kyHxa1WVYIV",
        "colab": {
          "base_uri": "https://localhost:8080/",
          "height": 502
        },
        "outputId": "d8bad590-a485-46fb-c0d4-a5bb64ec44c7"
      },
      "source": [
        "sns.boxplot(x = dados['questao_6']['Valor médio']);\n",
        "#sns.swarmplot(x = dados['questao_3']['Salário (em salários mínimos)'], color= '.25');"
      ],
      "execution_count": 67,
      "outputs": [
        {
          "output_type": "display_data",
          "data": {
            "image/png": "[encoded data removed]",
            "text/plain": [
              "<Figure size 792x576 with 1 Axes>"
            ]
          },
          "metadata": {}
        }
      ]
    },
    {
      "cell_type": "markdown",
      "metadata": {
        "id": "GFkmEHfSZFmA"
      },
      "source": [
        "# Exercício 07\n",
        "<center><img width=\"70%\" src=\"https://cdn.loom.com/images/originals/d955e52e1a7049efa321b222fc0776df.jpg?Expires=1638237136&Policy=eyJTdGF0ZW1lbnQiOlt7IlJlc291cmNlIjoiaHR0cHM6Ly9jZG4ubG9vbS5jb20vaW1hZ2VzL29yaWdpbmFscy9kOTU1ZTUyZTFhNzA0OWVmYTMyMWIyMjJmYzA3NzZkZi5qcGciLCJDb25kaXRpb24iOnsiRGF0ZUxlc3NUaGFuIjp7IkFXUzpFcG9jaFRpbWUiOjE2MzgyMzcxMzZ9fX1dfQ__&Signature=n6pR9X3DfDISXGR65JUNsUGag9tZg2UTmeJU5oKKYgyeCfQ1XDjWSvKAH1GXGp-W-Ou6Qx85LJwTTDUlX3aCtAKWTuBV~3m8zKSOM2P~1HEY7-B2Su5Y8e~lk1Qw4p0E9KXZmNldR8kC2cZzbaNyp4GGtLO5egm6QOD~yVzGpHD-55pswfd2n7bnXellqhMYpHAV7uuM98s3Dl2lVvcdMjMmVRQS438Ss8Yt5~2cXx-PD4PfCmIGf9LHkZFoll9n3022-kluTKzZLqBUvbNtL1zCuX496InFAT-PLY4tjQiy2nBICtaHOWwLcl~Sji6aeWkhWqebI6DS0AbrVuV6jA__&Key-Pair-Id=APKAJQIC5BGSW7XXK7FQ\"></center>"
      ]
    },
    {
      "cell_type": "code",
      "metadata": {
        "id": "BfSPTh54YZbr",
        "colab": {
          "base_uri": "https://localhost:8080/",
          "height": 206
        },
        "outputId": "eed2f255-51c9-4fa1-bff1-dd90246f47d3"
      },
      "source": [
        "dados['questao_7']"
      ],
      "execution_count": 68,
      "outputs": [
        {
          "output_type": "execute_result",
          "data": {
            "text/html": [
              "<div>\n",
              "<style scoped>\n",
              "    .dataframe tbody tr th:only-of-type {\n",
              "        vertical-align: middle;\n",
              "    }\n",
              "\n",
              "    .dataframe tbody tr th {\n",
              "        vertical-align: top;\n",
              "    }\n",
              "\n",
              "    .dataframe thead th {\n",
              "        text-align: right;\n",
              "    }\n",
              "</style>\n",
              "<table border=\"1\" class=\"dataframe\">\n",
              "  <thead>\n",
              "    <tr style=\"text-align: right;\">\n",
              "      <th></th>\n",
              "      <th>Faixas</th>\n",
              "      <th>Frequência relativa</th>\n",
              "    </tr>\n",
              "  </thead>\n",
              "  <tbody>\n",
              "    <tr>\n",
              "      <th>0</th>\n",
              "      <td>100 |— 110</td>\n",
              "      <td>0.10</td>\n",
              "    </tr>\n",
              "    <tr>\n",
              "      <th>1</th>\n",
              "      <td>110 |— 120</td>\n",
              "      <td>0.25</td>\n",
              "    </tr>\n",
              "    <tr>\n",
              "      <th>2</th>\n",
              "      <td>120 |— 130</td>\n",
              "      <td>0.30</td>\n",
              "    </tr>\n",
              "    <tr>\n",
              "      <th>3</th>\n",
              "      <td>130 |— 140</td>\n",
              "      <td>0.25</td>\n",
              "    </tr>\n",
              "    <tr>\n",
              "      <th>4</th>\n",
              "      <td>140 |— 160</td>\n",
              "      <td>0.10</td>\n",
              "    </tr>\n",
              "  </tbody>\n",
              "</table>\n",
              "</div>"
            ],
            "text/plain": [
              "       Faixas  Frequência relativa\n",
              "0  100 |— 110                 0.10\n",
              "1  110 |— 120                 0.25\n",
              "2  120 |— 130                 0.30\n",
              "3  130 |— 140                 0.25\n",
              "4  140 |— 160                 0.10"
            ]
          },
          "metadata": {},
          "execution_count": 68
        }
      ]
    },
    {
      "cell_type": "markdown",
      "metadata": {
        "id": "AaxhLKFgZvWf"
      },
      "source": [
        "### a)"
      ]
    },
    {
      "cell_type": "code",
      "metadata": {
        "id": "MIOiGj4YZQbv",
        "colab": {
          "base_uri": "https://localhost:8080/",
          "height": 503
        },
        "outputId": "9da43c76-e99b-4dcf-f9b6-43cfeaa34115"
      },
      "source": [
        "sns.barplot(data = dados['questao_7'],\n",
        "            x = 'Faixas',\n",
        "            y = 'Frequência relativa');"
      ],
      "execution_count": 69,
      "outputs": [
        {
          "output_type": "display_data",
          "data": {
            "image/png": "[encoded data removed]",
            "text/plain": [
              "<Figure size 792x576 with 1 Axes>"
            ]
          },
          "metadata": {}
        }
      ]
    },
    {
      "cell_type": "markdown",
      "metadata": {
        "id": "EIFWxyFEZzHn"
      },
      "source": [
        "### b)"
      ]
    },
    {
      "cell_type": "markdown",
      "metadata": {
        "id": "AuPurL2ebKGf"
      },
      "source": [
        "Gerando os dados com base na tabela de frequência"
      ]
    },
    {
      "cell_type": "code",
      "metadata": {
        "id": "0qPoUfRPaOkZ",
        "colab": {
          "base_uri": "https://localhost:8080/",
          "height": 485
        },
        "outputId": "bbe924d9-76f4-41ca-cef3-52ddbe82f2ef"
      },
      "source": [
        "dados['questao_7']['Frequência Absoluta'] = dados['questao_7']['Frequência relativa'] * 100\n",
        "\n",
        "intervalo_q6 = [(100, 110), (110, 120), (120, 130), (130, 140), (140, 160)]\n",
        "valores_q6 = []\n",
        "for posicao in range(len(intervalo_q6)):\n",
        "  for linha in range(int(dados['questao_7']['Frequência Absoluta'][posicao])):\n",
        "    valores_q6.append(random.randint(intervalo_q6[posicao][0],intervalo_q6[posicao][1]-1) + np.random.random())\n",
        "\n",
        "sns.boxplot(x = valores_q6);"
      ],
      "execution_count": 70,
      "outputs": [
        {
          "output_type": "display_data",
          "data": {
            "image/png": "[encoded data removed]",
            "text/plain": [
              "<Figure size 792x576 with 1 Axes>"
            ]
          },
          "metadata": {}
        }
      ]
    },
    {
      "cell_type": "markdown",
      "metadata": {
        "id": "9vqzx_pOisK1"
      },
      "source": [
        "# Exercício 08\n",
        "<center><img width=\"70%\" src=\"https://cdn.loom.com/images/originals/9b03ca79cbaa47e59fa61ed598e6bb69.jpg?Expires=1638273210&Policy=eyJTdGF0ZW1lbnQiOlt7IlJlc291cmNlIjoiaHR0cHM6Ly9jZG4ubG9vbS5jb20vaW1hZ2VzL29yaWdpbmFscy85YjAzY2E3OWNiYWE0N2U1OWZhNjFlZDU5OGU2YmI2OS5qcGciLCJDb25kaXRpb24iOnsiRGF0ZUxlc3NUaGFuIjp7IkFXUzpFcG9jaFRpbWUiOjE2MzgyNzMyMTB9fX1dfQ__&Signature=rlKgZ6Wwfcyi78kDLClVle9ec76jyFjYxG8Bco5JQuR0HxIn8ipCHO0OmDFR3T3Hm-UdlYYLCXfR6-cr5ZLMFvQ391XaLcHvWC8-PIQix0HmP6PBrmiZwzqxgUH86aHNhjyEkqqXRauMQCMkUvCn0Yq3BJuO9vXKtELNZvMKHkZp8Oe3N85d7IOp5Jc~16MAYHpFlPiOF28rqQs7bRXEWY06X0pv22Rar3M8uSLKji-8cWgcLl3-fsvPpaEiYXDORfRoby3B-bz4ZLCXyYAC6FjDrA99i2pWak7fPL0qxUYsOowTUVwsqOrxid~MKgsPAxaJIUoYkUSSoXHZ07sSwg__&Key-Pair-Id=APKAJQIC5BGSW7XXK7FQ\"></center>"
      ]
    },
    {
      "cell_type": "code",
      "metadata": {
        "id": "pOnYjVFia0bh",
        "outputId": "5cd5046a-8423-4f66-eebe-0e1b1fe37bca",
        "colab": {
          "base_uri": "https://localhost:8080/",
          "height": 238
        }
      },
      "source": [
        "dados['questao_8']['Frequência absoluta'] = dados['questao_8']['Frequência relativa'] * 20\n",
        "dados['questao_8']"
      ],
      "execution_count": 71,
      "outputs": [
        {
          "output_type": "execute_result",
          "data": {
            "text/html": [
              "<div>\n",
              "<style scoped>\n",
              "    .dataframe tbody tr th:only-of-type {\n",
              "        vertical-align: middle;\n",
              "    }\n",
              "\n",
              "    .dataframe tbody tr th {\n",
              "        vertical-align: top;\n",
              "    }\n",
              "\n",
              "    .dataframe thead th {\n",
              "        text-align: right;\n",
              "    }\n",
              "</style>\n",
              "<table border=\"1\" class=\"dataframe\">\n",
              "  <thead>\n",
              "    <tr style=\"text-align: right;\">\n",
              "      <th></th>\n",
              "      <th>Durabilidade</th>\n",
              "      <th>Frequência relativa</th>\n",
              "      <th>Frequência absoluta</th>\n",
              "    </tr>\n",
              "  </thead>\n",
              "  <tbody>\n",
              "    <tr>\n",
              "      <th>0</th>\n",
              "      <td>0 |— 3</td>\n",
              "      <td>0.02</td>\n",
              "      <td>0.4</td>\n",
              "    </tr>\n",
              "    <tr>\n",
              "      <th>1</th>\n",
              "      <td>3 |— 6</td>\n",
              "      <td>0.05</td>\n",
              "      <td>1.0</td>\n",
              "    </tr>\n",
              "    <tr>\n",
              "      <th>2</th>\n",
              "      <td>6 |— 9</td>\n",
              "      <td>0.15</td>\n",
              "      <td>3.0</td>\n",
              "    </tr>\n",
              "    <tr>\n",
              "      <th>3</th>\n",
              "      <td>9 |— 12</td>\n",
              "      <td>0.25</td>\n",
              "      <td>5.0</td>\n",
              "    </tr>\n",
              "    <tr>\n",
              "      <th>4</th>\n",
              "      <td>12 |— 15</td>\n",
              "      <td>0.30</td>\n",
              "      <td>6.0</td>\n",
              "    </tr>\n",
              "    <tr>\n",
              "      <th>5</th>\n",
              "      <td>15 |— 20</td>\n",
              "      <td>0.23</td>\n",
              "      <td>4.6</td>\n",
              "    </tr>\n",
              "  </tbody>\n",
              "</table>\n",
              "</div>"
            ],
            "text/plain": [
              "  Durabilidade  Frequência relativa  Frequência absoluta\n",
              "0       0 |— 3                 0.02                  0.4\n",
              "1       3 |— 6                 0.05                  1.0\n",
              "2       6 |— 9                 0.15                  3.0\n",
              "3      9 |— 12                 0.25                  5.0\n",
              "4     12 |— 15                 0.30                  6.0\n",
              "5     15 |— 20                 0.23                  4.6"
            ]
          },
          "metadata": {},
          "execution_count": 71
        }
      ]
    },
    {
      "cell_type": "markdown",
      "metadata": {
        "id": "ZVX5Ljv1jeeN"
      },
      "source": [
        "### a)"
      ]
    },
    {
      "cell_type": "code",
      "metadata": {
        "id": "AaFyRHx6ltZN",
        "outputId": "a2b372e2-4051-47a4-bf23-4a9b358c08a3",
        "colab": {
          "base_uri": "https://localhost:8080/"
        }
      },
      "source": [
        "1000/1.07"
      ],
      "execution_count": 74,
      "outputs": [
        {
          "output_type": "execute_result",
          "data": {
            "text/plain": [
              "934.5794392523364"
            ]
          },
          "metadata": {},
          "execution_count": 74
        }
      ]
    },
    {
      "cell_type": "code",
      "metadata": {
        "id": "0XVgmjfqjf6N",
        "outputId": "9ea2c669-978a-49ce-be2d-787bd19ec214",
        "colab": {
          "base_uri": "https://localhost:8080/",
          "height": 503
        }
      },
      "source": [
        "sns.barplot(data = dados['questao_8'],\n",
        "            x = 'Durabilidade',\n",
        "            y = 'Frequência relativa');"
      ],
      "execution_count": 72,
      "outputs": [
        {
          "output_type": "display_data",
          "data": {
            "image/png": "[encoded data removed]",
            "text/plain": [
              "<Figure size 792x576 with 1 Axes>"
            ]
          },
          "metadata": {}
        }
      ]
    },
    {
      "cell_type": "markdown",
      "metadata": {
        "id": "gbiyNBe0kIgN"
      },
      "source": [
        "### b) Podemos considerar o acumulado das duas primeiras entradas, portanto 2% + 5% = 7%, representando 70 baterias as quais é esperado apresentar problemas em até 6 meses de garantia"
      ]
    },
    {
      "cell_type": "markdown",
      "metadata": {
        "id": "CzO6TyU4oczM"
      },
      "source": [
        "### c) falta dados para dar sequência."
      ]
    },
    {
      "cell_type": "code",
      "metadata": {
        "id": "b5wvaKpwjURH"
      },
      "source": [
        ""
      ],
      "execution_count": 73,
      "outputs": []
    }
  ]
}