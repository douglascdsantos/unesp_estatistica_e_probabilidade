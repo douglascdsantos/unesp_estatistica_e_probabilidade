{
  "nbformat": 4,
  "nbformat_minor": 0,
  "metadata": {
    "colab": {
      "name": "lista de exercícios 01.ipynb",
      "provenance": [],
      "toc_visible": true,
      "authorship_tag": "ABX9TyPIHzqJeqGcRX+MnVbExkwG",
      "include_colab_link": true
    },
    "kernelspec": {
      "name": "python3",
      "display_name": "Python 3"
    },
    "language_info": {
      "name": "python"
    }
  },
  "cells": [
    {
      "cell_type": "markdown",
      "metadata": {
        "id": "view-in-github",
        "colab_type": "text"
      },
      "source": [
        "<a href=\"https://colab.research.google.com/github/douglascdsantos/unesp_estatistica_e_probabilidade/blob/main/aula01/lista_de_exerc%C3%ADcios_01.ipynb\" target=\"_parent\"><img src=\"https://colab.research.google.com/assets/colab-badge.svg\" alt=\"Open In Colab\"/></a>"
      ]
    },
    {
      "cell_type": "code",
      "metadata": {
        "id": "kQWmKNFXlEIY"
      },
      "source": [
        "import pandas as pd\n",
        "import seaborn as sns\n",
        "dados = pd.read_excel('https://github.com/douglascdsantos/unesp_estatistica_e_probabilidade/blob/main/aula01/EP%2001%20lista%20de%20exerc%C3%ADcio%20dados.xlsx?raw=true', None)"
      ],
      "execution_count": 1,
      "outputs": []
    },
    {
      "cell_type": "markdown",
      "metadata": {
        "id": "RePsUDzhmsEO"
      },
      "source": [
        "## Exercício 01\n",
        "a) Qualitativa nominal\n",
        "\n",
        "b) Qualitativa nominal\n",
        "\n",
        "c) Quantitativa contínua\n",
        "\n",
        "d) Qualitativa ordinal\n",
        "\n",
        "e) Qualitativa ordinal"
      ]
    },
    {
      "cell_type": "markdown",
      "metadata": {
        "id": "NGzw0T3BnEie"
      },
      "source": [
        "## Exercício 02\n",
        "Dicionário de Variáveis:\n",
        "- `Pacientes` - identificador de cada individuo;\n",
        "- `Fisioterapia` - número de meses previstos de fisioterapia;\n",
        "- `Sequelas` - se haverá (S) ou não (N) sequelas após o tratamento;\n",
        "- `Cirurgia` - grau de complexidade da cirurgia realizada: alto (A), médio (M) ou baixo (B)."
      ]
    },
    {
      "cell_type": "code",
      "metadata": {
        "colab": {
          "base_uri": "https://localhost:8080/",
          "height": 520
        },
        "id": "jsFiIxLOrFCX",
        "outputId": "26f272d4-92bd-4f43-bde0-5a974e6d2648"
      },
      "source": [
        "dados['questao_2']"
      ],
      "execution_count": 2,
      "outputs": [
        {
          "output_type": "execute_result",
          "data": {
            "text/html": [
              "<div>\n",
              "<style scoped>\n",
              "    .dataframe tbody tr th:only-of-type {\n",
              "        vertical-align: middle;\n",
              "    }\n",
              "\n",
              "    .dataframe tbody tr th {\n",
              "        vertical-align: top;\n",
              "    }\n",
              "\n",
              "    .dataframe thead th {\n",
              "        text-align: right;\n",
              "    }\n",
              "</style>\n",
              "<table border=\"1\" class=\"dataframe\">\n",
              "  <thead>\n",
              "    <tr style=\"text-align: right;\">\n",
              "      <th></th>\n",
              "      <th>Pacientes</th>\n",
              "      <th>Fisioterapia</th>\n",
              "      <th>Sequelas</th>\n",
              "      <th>Cirurgia</th>\n",
              "    </tr>\n",
              "  </thead>\n",
              "  <tbody>\n",
              "    <tr>\n",
              "      <th>0</th>\n",
              "      <td>1</td>\n",
              "      <td>7</td>\n",
              "      <td>S</td>\n",
              "      <td>A</td>\n",
              "    </tr>\n",
              "    <tr>\n",
              "      <th>1</th>\n",
              "      <td>2</td>\n",
              "      <td>8</td>\n",
              "      <td>S</td>\n",
              "      <td>M</td>\n",
              "    </tr>\n",
              "    <tr>\n",
              "      <th>2</th>\n",
              "      <td>3</td>\n",
              "      <td>5</td>\n",
              "      <td>N</td>\n",
              "      <td>A</td>\n",
              "    </tr>\n",
              "    <tr>\n",
              "      <th>3</th>\n",
              "      <td>4</td>\n",
              "      <td>6</td>\n",
              "      <td>N</td>\n",
              "      <td>M</td>\n",
              "    </tr>\n",
              "    <tr>\n",
              "      <th>4</th>\n",
              "      <td>5</td>\n",
              "      <td>4</td>\n",
              "      <td>N</td>\n",
              "      <td>M</td>\n",
              "    </tr>\n",
              "    <tr>\n",
              "      <th>5</th>\n",
              "      <td>6</td>\n",
              "      <td>5</td>\n",
              "      <td>S</td>\n",
              "      <td>B</td>\n",
              "    </tr>\n",
              "    <tr>\n",
              "      <th>6</th>\n",
              "      <td>7</td>\n",
              "      <td>7</td>\n",
              "      <td>S</td>\n",
              "      <td>A</td>\n",
              "    </tr>\n",
              "    <tr>\n",
              "      <th>7</th>\n",
              "      <td>8</td>\n",
              "      <td>7</td>\n",
              "      <td>N</td>\n",
              "      <td>M</td>\n",
              "    </tr>\n",
              "    <tr>\n",
              "      <th>8</th>\n",
              "      <td>9</td>\n",
              "      <td>6</td>\n",
              "      <td>N</td>\n",
              "      <td>B</td>\n",
              "    </tr>\n",
              "    <tr>\n",
              "      <th>9</th>\n",
              "      <td>10</td>\n",
              "      <td>8</td>\n",
              "      <td>S</td>\n",
              "      <td>M</td>\n",
              "    </tr>\n",
              "    <tr>\n",
              "      <th>10</th>\n",
              "      <td>11</td>\n",
              "      <td>6</td>\n",
              "      <td>S</td>\n",
              "      <td>B</td>\n",
              "    </tr>\n",
              "    <tr>\n",
              "      <th>11</th>\n",
              "      <td>12</td>\n",
              "      <td>5</td>\n",
              "      <td>N</td>\n",
              "      <td>B</td>\n",
              "    </tr>\n",
              "    <tr>\n",
              "      <th>12</th>\n",
              "      <td>13</td>\n",
              "      <td>5</td>\n",
              "      <td>S</td>\n",
              "      <td>M</td>\n",
              "    </tr>\n",
              "    <tr>\n",
              "      <th>13</th>\n",
              "      <td>14</td>\n",
              "      <td>4</td>\n",
              "      <td>N</td>\n",
              "      <td>M</td>\n",
              "    </tr>\n",
              "    <tr>\n",
              "      <th>14</th>\n",
              "      <td>15</td>\n",
              "      <td>5</td>\n",
              "      <td>N</td>\n",
              "      <td>A</td>\n",
              "    </tr>\n",
              "  </tbody>\n",
              "</table>\n",
              "</div>"
            ],
            "text/plain": [
              "    Pacientes  Fisioterapia Sequelas Cirurgia\n",
              "0           1             7        S        A\n",
              "1           2             8        S        M\n",
              "2           3             5        N        A\n",
              "3           4             6        N        M\n",
              "4           5             4        N        M\n",
              "5           6             5        S        B\n",
              "6           7             7        S        A\n",
              "7           8             7        N        M\n",
              "8           9             6        N        B\n",
              "9          10             8        S        M\n",
              "10         11             6        S        B\n",
              "11         12             5        N        B\n",
              "12         13             5        S        M\n",
              "13         14             4        N        M\n",
              "14         15             5        N        A"
            ]
          },
          "metadata": {},
          "execution_count": 2
        }
      ]
    },
    {
      "cell_type": "markdown",
      "metadata": {
        "id": "THkEUxN9rEqJ"
      },
      "source": [
        "a)\n",
        "- `Pacientes` - quantitativa discreta;\n",
        "- `Fisioterapia` - quantitativa discreta;\n",
        "- `Sequelas` - qualitativa nominal;\n",
        "- `Cirurgia` - qualitativa ordinal."
      ]
    },
    {
      "cell_type": "markdown",
      "metadata": {
        "id": "vOp1aGPao_Y_"
      },
      "source": [
        "b) tabela de frequência"
      ]
    },
    {
      "cell_type": "code",
      "metadata": {
        "colab": {
          "base_uri": "https://localhost:8080/"
        },
        "id": "52fIePvwlVj5",
        "outputId": "f91ca481-801e-49ef-948a-09c64ba161d1"
      },
      "source": [
        "# Pacientes\n",
        "dados['questao_2']['Pacientes'].value_counts()"
      ],
      "execution_count": 3,
      "outputs": [
        {
          "output_type": "execute_result",
          "data": {
            "text/plain": [
              "15    1\n",
              "14    1\n",
              "13    1\n",
              "12    1\n",
              "11    1\n",
              "10    1\n",
              "9     1\n",
              "8     1\n",
              "7     1\n",
              "6     1\n",
              "5     1\n",
              "4     1\n",
              "3     1\n",
              "2     1\n",
              "1     1\n",
              "Name: Pacientes, dtype: int64"
            ]
          },
          "metadata": {},
          "execution_count": 3
        }
      ]
    },
    {
      "cell_type": "code",
      "metadata": {
        "colab": {
          "base_uri": "https://localhost:8080/",
          "height": 296
        },
        "id": "bz9lMFJjqd5H",
        "outputId": "aa4dc7b5-dcf5-45c5-cb61-e91d0ce73457"
      },
      "source": [
        "sns.histplot(data = dados['questao_2'],\n",
        "             x = 'Fisioterapia')"
      ],
      "execution_count": 16,
      "outputs": [
        {
          "output_type": "execute_result",
          "data": {
            "text/plain": [
              "<matplotlib.axes._subplots.AxesSubplot at 0x7ff389803110>"
            ]
          },
          "metadata": {},
          "execution_count": 16
        },
        {
          "output_type": "display_data",
          "data": {
            "image/png": "[encoded data removed]",
            "text/plain": [
              "<Figure size 432x288 with 1 Axes>"
            ]
          },
          "metadata": {
            "needs_background": "light"
          }
        }
      ]
    },
    {
      "cell_type": "code",
      "metadata": {
        "id": "OE-AP8tWCPIz",
        "outputId": "163d727b-edff-42df-d828-b9453bf10f7f",
        "colab": {
          "base_uri": "https://localhost:8080/",
          "height": 279
        }
      },
      "source": [
        "sns.histplot(\n",
        "    data = dados['questao_2'].Fisioterapia);"
      ],
      "execution_count": 15,
      "outputs": [
        {
          "output_type": "display_data",
          "data": {
            "image/png": "[encoded data removed]",
            "text/plain": [
              "<Figure size 432x288 with 1 Axes>"
            ]
          },
          "metadata": {
            "needs_background": "light"
          }
        }
      ]
    },
    {
      "cell_type": "code",
      "metadata": {
        "colab": {
          "base_uri": "https://localhost:8080/"
        },
        "id": "v6mLQw14n6ix",
        "outputId": "ccfe89d0-9449-4d46-9d3a-8b87ecc0e113"
      },
      "source": [
        "# Pacientes\n",
        "dados['questao_2']['Fisioterapia'].value_counts()"
      ],
      "execution_count": 5,
      "outputs": [
        {
          "output_type": "execute_result",
          "data": {
            "text/plain": [
              "5    5\n",
              "7    3\n",
              "6    3\n",
              "8    2\n",
              "4    2\n",
              "Name: Fisioterapia, dtype: int64"
            ]
          },
          "metadata": {},
          "execution_count": 5
        }
      ]
    },
    {
      "cell_type": "code",
      "metadata": {
        "id": "Oic8pSlQpkd2"
      },
      "source": [
        ""
      ],
      "execution_count": 5,
      "outputs": []
    }
  ]
}