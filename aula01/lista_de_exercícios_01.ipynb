{
  "nbformat": 4,
  "nbformat_minor": 0,
  "metadata": {
    "colab": {
      "name": "lista de exercícios 01.ipynb",
      "provenance": [],
      "authorship_tag": "ABX9TyPCQET3n1njWfNmvvWngjEQ",
      "include_colab_link": true
    },
    "kernelspec": {
      "name": "python3",
      "display_name": "Python 3"
    },
    "language_info": {
      "name": "python"
    }
  },
  "cells": [
    {
      "cell_type": "markdown",
      "metadata": {
        "id": "view-in-github",
        "colab_type": "text"
      },
      "source": [
        "<a href=\"https://colab.research.google.com/github/douglascdsantos/unesp_estatistica_e_probabilidade/blob/main/aula01/lista_de_exerc%C3%ADcios_01.ipynb\" target=\"_parent\"><img src=\"https://colab.research.google.com/assets/colab-badge.svg\" alt=\"Open In Colab\"/></a>"
      ]
    },
    {
      "cell_type": "code",
      "metadata": {
        "id": "kQWmKNFXlEIY"
      },
      "source": [
        "import pandas as pd\n",
        "import seaborn as sns\n",
        "dados = pd.read_excel('https://github.com/douglascdsantos/unesp_estatistica_e_probabilidade/blob/main/aula01/EP%2001%20lista%20de%20exerc%C3%ADcio%20dados.xlsx?raw=true', None)"
      ],
      "execution_count": 2,
      "outputs": []
    },
    {
      "cell_type": "markdown",
      "metadata": {
        "id": "RePsUDzhmsEO"
      },
      "source": [
        "## Exercício 01\n",
        "a) Qualitativa nominal\n",
        "\n",
        "b) Qualitativa nominal\n",
        "\n",
        "c) Quantitativa contínua\n",
        "\n",
        "d) Qualitativa ordinal\n",
        "\n",
        "e) Qualitativa ordinal"
      ]
    },
    {
      "cell_type": "markdown",
      "metadata": {
        "id": "NGzw0T3BnEie"
      },
      "source": [
        "## Exercício 02\n",
        "Dicionário de Variáveis:\n",
        "- `Pacientes` - identificador de cada individuo;\n",
        "- `Fisioterapia` - número de meses previstos de fisioterapia;\n",
        "- `Sequelas` - se haverá (S) ou não (N) sequelas após o tratamento;\n",
        "- `Cirurgia` - grau de complexidade da cirurgia realizada: alto (A), médio (M) ou baixo (B)."
      ]
    },
    {
      "cell_type": "code",
      "metadata": {
        "colab": {
          "base_uri": "https://localhost:8080/",
          "height": 520
        },
        "id": "jsFiIxLOrFCX",
        "outputId": "87d8b1c3-88e3-4d70-e532-5159cd4e8fde"
      },
      "source": [
        "dados['questao_2']"
      ],
      "execution_count": 3,
      "outputs": [
        {
          "output_type": "execute_result",
          "data": {
            "text/html": [
              "<div>\n",
              "<style scoped>\n",
              "    .dataframe tbody tr th:only-of-type {\n",
              "        vertical-align: middle;\n",
              "    }\n",
              "\n",
              "    .dataframe tbody tr th {\n",
              "        vertical-align: top;\n",
              "    }\n",
              "\n",
              "    .dataframe thead th {\n",
              "        text-align: right;\n",
              "    }\n",
              "</style>\n",
              "<table border=\"1\" class=\"dataframe\">\n",
              "  <thead>\n",
              "    <tr style=\"text-align: right;\">\n",
              "      <th></th>\n",
              "      <th>Pacientes</th>\n",
              "      <th>Fisioterapia</th>\n",
              "      <th>Sequelas</th>\n",
              "      <th>Cirurgia</th>\n",
              "    </tr>\n",
              "  </thead>\n",
              "  <tbody>\n",
              "    <tr>\n",
              "      <th>0</th>\n",
              "      <td>1</td>\n",
              "      <td>7</td>\n",
              "      <td>S</td>\n",
              "      <td>A</td>\n",
              "    </tr>\n",
              "    <tr>\n",
              "      <th>1</th>\n",
              "      <td>2</td>\n",
              "      <td>8</td>\n",
              "      <td>S</td>\n",
              "      <td>M</td>\n",
              "    </tr>\n",
              "    <tr>\n",
              "      <th>2</th>\n",
              "      <td>3</td>\n",
              "      <td>5</td>\n",
              "      <td>N</td>\n",
              "      <td>A</td>\n",
              "    </tr>\n",
              "    <tr>\n",
              "      <th>3</th>\n",
              "      <td>4</td>\n",
              "      <td>6</td>\n",
              "      <td>N</td>\n",
              "      <td>M</td>\n",
              "    </tr>\n",
              "    <tr>\n",
              "      <th>4</th>\n",
              "      <td>5</td>\n",
              "      <td>4</td>\n",
              "      <td>N</td>\n",
              "      <td>M</td>\n",
              "    </tr>\n",
              "    <tr>\n",
              "      <th>5</th>\n",
              "      <td>6</td>\n",
              "      <td>5</td>\n",
              "      <td>S</td>\n",
              "      <td>B</td>\n",
              "    </tr>\n",
              "    <tr>\n",
              "      <th>6</th>\n",
              "      <td>7</td>\n",
              "      <td>7</td>\n",
              "      <td>S</td>\n",
              "      <td>A</td>\n",
              "    </tr>\n",
              "    <tr>\n",
              "      <th>7</th>\n",
              "      <td>8</td>\n",
              "      <td>7</td>\n",
              "      <td>N</td>\n",
              "      <td>M</td>\n",
              "    </tr>\n",
              "    <tr>\n",
              "      <th>8</th>\n",
              "      <td>9</td>\n",
              "      <td>6</td>\n",
              "      <td>N</td>\n",
              "      <td>B</td>\n",
              "    </tr>\n",
              "    <tr>\n",
              "      <th>9</th>\n",
              "      <td>10</td>\n",
              "      <td>8</td>\n",
              "      <td>S</td>\n",
              "      <td>M</td>\n",
              "    </tr>\n",
              "    <tr>\n",
              "      <th>10</th>\n",
              "      <td>11</td>\n",
              "      <td>6</td>\n",
              "      <td>S</td>\n",
              "      <td>B</td>\n",
              "    </tr>\n",
              "    <tr>\n",
              "      <th>11</th>\n",
              "      <td>12</td>\n",
              "      <td>5</td>\n",
              "      <td>N</td>\n",
              "      <td>B</td>\n",
              "    </tr>\n",
              "    <tr>\n",
              "      <th>12</th>\n",
              "      <td>13</td>\n",
              "      <td>5</td>\n",
              "      <td>S</td>\n",
              "      <td>M</td>\n",
              "    </tr>\n",
              "    <tr>\n",
              "      <th>13</th>\n",
              "      <td>14</td>\n",
              "      <td>4</td>\n",
              "      <td>N</td>\n",
              "      <td>M</td>\n",
              "    </tr>\n",
              "    <tr>\n",
              "      <th>14</th>\n",
              "      <td>15</td>\n",
              "      <td>5</td>\n",
              "      <td>N</td>\n",
              "      <td>A</td>\n",
              "    </tr>\n",
              "  </tbody>\n",
              "</table>\n",
              "</div>"
            ],
            "text/plain": [
              "    Pacientes  Fisioterapia Sequelas Cirurgia\n",
              "0           1             7        S        A\n",
              "1           2             8        S        M\n",
              "2           3             5        N        A\n",
              "3           4             6        N        M\n",
              "4           5             4        N        M\n",
              "5           6             5        S        B\n",
              "6           7             7        S        A\n",
              "7           8             7        N        M\n",
              "8           9             6        N        B\n",
              "9          10             8        S        M\n",
              "10         11             6        S        B\n",
              "11         12             5        N        B\n",
              "12         13             5        S        M\n",
              "13         14             4        N        M\n",
              "14         15             5        N        A"
            ]
          },
          "metadata": {},
          "execution_count": 3
        }
      ]
    },
    {
      "cell_type": "markdown",
      "metadata": {
        "id": "THkEUxN9rEqJ"
      },
      "source": [
        "## a)\n",
        "- `Pacientes` - quantitativa discreta;\n",
        "- `Fisioterapia` - quantitativa discreta;\n",
        "- `Sequelas` - qualitativa nominal;\n",
        "- `Cirurgia` - qualitativa ordinal."
      ]
    },
    {
      "cell_type": "markdown",
      "metadata": {
        "id": "vOp1aGPao_Y_"
      },
      "source": [
        "## b) tabela de frequência"
      ]
    },
    {
      "cell_type": "markdown",
      "metadata": {
        "id": "khlHZkfoWyGS"
      },
      "source": [
        "### Fisioterapia"
      ]
    },
    {
      "cell_type": "code",
      "metadata": {
        "id": "tkGkr2Z5ZS26",
        "outputId": "9ee134f9-0976-4102-8721-74672bc2a062",
        "colab": {
          "base_uri": "https://localhost:8080/",
          "height": 238
        }
      },
      "source": [
        "tab_freq_fisioterapia = pd.crosstab(index = dados['questao_2'].Fisioterapia,\n",
        "            columns = 'Frequência Absoluta',\n",
        "            colnames = [''])\n",
        "tab_freq_fisioterapia['Frequência Relativa'] = tab_freq_fisioterapia / tab_freq_fisioterapia.sum()\n",
        "tab_freq_fisioterapia"
      ],
      "execution_count": 35,
      "outputs": [
        {
          "output_type": "execute_result",
          "data": {
            "text/html": [
              "<div>\n",
              "<style scoped>\n",
              "    .dataframe tbody tr th:only-of-type {\n",
              "        vertical-align: middle;\n",
              "    }\n",
              "\n",
              "    .dataframe tbody tr th {\n",
              "        vertical-align: top;\n",
              "    }\n",
              "\n",
              "    .dataframe thead th {\n",
              "        text-align: right;\n",
              "    }\n",
              "</style>\n",
              "<table border=\"1\" class=\"dataframe\">\n",
              "  <thead>\n",
              "    <tr style=\"text-align: right;\">\n",
              "      <th></th>\n",
              "      <th>Frequência Absoluta</th>\n",
              "      <th>Frequência Relativa</th>\n",
              "    </tr>\n",
              "    <tr>\n",
              "      <th>Fisioterapia</th>\n",
              "      <th></th>\n",
              "      <th></th>\n",
              "    </tr>\n",
              "  </thead>\n",
              "  <tbody>\n",
              "    <tr>\n",
              "      <th>4</th>\n",
              "      <td>2</td>\n",
              "      <td>0.133333</td>\n",
              "    </tr>\n",
              "    <tr>\n",
              "      <th>5</th>\n",
              "      <td>5</td>\n",
              "      <td>0.333333</td>\n",
              "    </tr>\n",
              "    <tr>\n",
              "      <th>6</th>\n",
              "      <td>3</td>\n",
              "      <td>0.200000</td>\n",
              "    </tr>\n",
              "    <tr>\n",
              "      <th>7</th>\n",
              "      <td>3</td>\n",
              "      <td>0.200000</td>\n",
              "    </tr>\n",
              "    <tr>\n",
              "      <th>8</th>\n",
              "      <td>2</td>\n",
              "      <td>0.133333</td>\n",
              "    </tr>\n",
              "  </tbody>\n",
              "</table>\n",
              "</div>"
            ],
            "text/plain": [
              "              Frequência Absoluta  Frequência Relativa\n",
              "Fisioterapia                                          \n",
              "4                               2             0.133333\n",
              "5                               5             0.333333\n",
              "6                               3             0.200000\n",
              "7                               3             0.200000\n",
              "8                               2             0.133333"
            ]
          },
          "metadata": {},
          "execution_count": 35
        }
      ]
    },
    {
      "cell_type": "code",
      "metadata": {
        "colab": {
          "base_uri": "https://localhost:8080/",
          "height": 279
        },
        "id": "bz9lMFJjqd5H",
        "outputId": "f2637bd1-717d-4a9a-a96e-8bcce6b4431b"
      },
      "source": [
        "sns.histplot(data = dados['questao_2'],\n",
        "             x = 'Fisioterapia');"
      ],
      "execution_count": 5,
      "outputs": [
        {
          "output_type": "display_data",
          "data": {
            "image/png": "[encoded data removed]",
            "text/plain": [
              "<Figure size 432x288 with 1 Axes>"
            ]
          },
          "metadata": {
            "needs_background": "light"
          }
        }
      ]
    },
    {
      "cell_type": "markdown",
      "metadata": {
        "id": "e8-hKZPuXv8z"
      },
      "source": [
        "### Sequelas"
      ]
    },
    {
      "cell_type": "code",
      "metadata": {
        "id": "2C-KJDScffvb",
        "outputId": "a63d6463-885e-4112-853e-080625f2fdc1",
        "colab": {
          "base_uri": "https://localhost:8080/",
          "height": 143
        }
      },
      "source": [
        "tab_freq_sequelas = pd.crosstab(index = dados['questao_2'].Sequelas,\n",
        "            columns = 'Frequência Absoluta',\n",
        "            colnames = [''])\n",
        "tab_freq_sequelas['Frequência Relativa'] = tab_freq_sequelas / tab_freq_sequelas.sum()\n",
        "tab_freq_sequelas"
      ],
      "execution_count": 36,
      "outputs": [
        {
          "output_type": "execute_result",
          "data": {
            "text/html": [
              "<div>\n",
              "<style scoped>\n",
              "    .dataframe tbody tr th:only-of-type {\n",
              "        vertical-align: middle;\n",
              "    }\n",
              "\n",
              "    .dataframe tbody tr th {\n",
              "        vertical-align: top;\n",
              "    }\n",
              "\n",
              "    .dataframe thead th {\n",
              "        text-align: right;\n",
              "    }\n",
              "</style>\n",
              "<table border=\"1\" class=\"dataframe\">\n",
              "  <thead>\n",
              "    <tr style=\"text-align: right;\">\n",
              "      <th></th>\n",
              "      <th>Frequência Absoluta</th>\n",
              "      <th>Frequência Relativa</th>\n",
              "    </tr>\n",
              "    <tr>\n",
              "      <th>Sequelas</th>\n",
              "      <th></th>\n",
              "      <th></th>\n",
              "    </tr>\n",
              "  </thead>\n",
              "  <tbody>\n",
              "    <tr>\n",
              "      <th>N</th>\n",
              "      <td>8</td>\n",
              "      <td>0.533333</td>\n",
              "    </tr>\n",
              "    <tr>\n",
              "      <th>S</th>\n",
              "      <td>7</td>\n",
              "      <td>0.466667</td>\n",
              "    </tr>\n",
              "  </tbody>\n",
              "</table>\n",
              "</div>"
            ],
            "text/plain": [
              "          Frequência Absoluta  Frequência Relativa\n",
              "Sequelas                                          \n",
              "N                           8             0.533333\n",
              "S                           7             0.466667"
            ]
          },
          "metadata": {},
          "execution_count": 36
        }
      ]
    },
    {
      "cell_type": "code",
      "metadata": {
        "id": "OE-AP8tWCPIz",
        "colab": {
          "base_uri": "https://localhost:8080/",
          "height": 279
        },
        "outputId": "53eb282b-d557-4089-96cc-0b89230562ee"
      },
      "source": [
        "sns.histplot(data = dados['questao_2'],\n",
        "             x = 'Sequelas');"
      ],
      "execution_count": 8,
      "outputs": [
        {
          "output_type": "display_data",
          "data": {
            "image/png": "[encoded data removed]",
            "text/plain": [
              "<Figure size 432x288 with 1 Axes>"
            ]
          },
          "metadata": {
            "needs_background": "light"
          }
        }
      ]
    },
    {
      "cell_type": "markdown",
      "metadata": {
        "id": "XixQlDY7ZJoL"
      },
      "source": [
        "### Cirurgia"
      ]
    },
    {
      "cell_type": "code",
      "metadata": {
        "id": "DBeM4ytEfpMT",
        "outputId": "90b6c245-0f10-480a-d63e-3d9452dfdca8",
        "colab": {
          "base_uri": "https://localhost:8080/",
          "height": 175
        }
      },
      "source": [
        "tab_freq_cirurgia = pd.crosstab(index = dados['questao_2'].Cirurgia,\n",
        "            columns = 'Frequência Absoluta',\n",
        "            colnames = [''])\n",
        "tab_freq_cirurgia['Frequência Relativa'] = tab_freq_cirurgia / tab_freq_cirurgia.sum()\n",
        "tab_freq_cirurgia"
      ],
      "execution_count": 37,
      "outputs": [
        {
          "output_type": "execute_result",
          "data": {
            "text/html": [
              "<div>\n",
              "<style scoped>\n",
              "    .dataframe tbody tr th:only-of-type {\n",
              "        vertical-align: middle;\n",
              "    }\n",
              "\n",
              "    .dataframe tbody tr th {\n",
              "        vertical-align: top;\n",
              "    }\n",
              "\n",
              "    .dataframe thead th {\n",
              "        text-align: right;\n",
              "    }\n",
              "</style>\n",
              "<table border=\"1\" class=\"dataframe\">\n",
              "  <thead>\n",
              "    <tr style=\"text-align: right;\">\n",
              "      <th></th>\n",
              "      <th>Frequência Absoluta</th>\n",
              "      <th>Frequência Relativa</th>\n",
              "    </tr>\n",
              "    <tr>\n",
              "      <th>Cirurgia</th>\n",
              "      <th></th>\n",
              "      <th></th>\n",
              "    </tr>\n",
              "  </thead>\n",
              "  <tbody>\n",
              "    <tr>\n",
              "      <th>A</th>\n",
              "      <td>4</td>\n",
              "      <td>0.266667</td>\n",
              "    </tr>\n",
              "    <tr>\n",
              "      <th>B</th>\n",
              "      <td>4</td>\n",
              "      <td>0.266667</td>\n",
              "    </tr>\n",
              "    <tr>\n",
              "      <th>M</th>\n",
              "      <td>7</td>\n",
              "      <td>0.466667</td>\n",
              "    </tr>\n",
              "  </tbody>\n",
              "</table>\n",
              "</div>"
            ],
            "text/plain": [
              "          Frequência Absoluta  Frequência Relativa\n",
              "Cirurgia                                          \n",
              "A                           4             0.266667\n",
              "B                           4             0.266667\n",
              "M                           7             0.466667"
            ]
          },
          "metadata": {},
          "execution_count": 37
        }
      ]
    },
    {
      "cell_type": "code",
      "metadata": {
        "colab": {
          "base_uri": "https://localhost:8080/",
          "height": 279
        },
        "id": "v6mLQw14n6ix",
        "outputId": "7903b5fe-5cf8-4031-cb86-c5989ce5bfd5"
      },
      "source": [
        "sns.histplot(data = dados['questao_2'],\n",
        "             x = 'Cirurgia');"
      ],
      "execution_count": 9,
      "outputs": [
        {
          "output_type": "display_data",
          "data": {
            "image/png": "[encoded data removed]",
            "text/plain": [
              "<Figure size 432x288 with 1 Axes>"
            ]
          },
          "metadata": {
            "needs_background": "light"
          }
        }
      ]
    },
    {
      "cell_type": "markdown",
      "metadata": {
        "id": "c6Uif60yf0r7"
      },
      "source": [
        "## c)"
      ]
    },
    {
      "cell_type": "code",
      "metadata": {
        "id": "Oic8pSlQpkd2",
        "outputId": "25dd140b-e5f2-4cc7-d85b-b32843f75914",
        "colab": {
          "base_uri": "https://localhost:8080/",
          "height": 279
        }
      },
      "source": [
        "sns.histplot(data = dados['questao_2'].query('Sequelas == \"N\"'),\n",
        "             x = 'Fisioterapia');"
      ],
      "execution_count": 39,
      "outputs": [
        {
          "output_type": "display_data",
          "data": {
            "image/png": "[encoded data removed]",
            "text/plain": [
              "<Figure size 432x288 with 1 Axes>"
            ]
          },
          "metadata": {
            "needs_background": "light"
          }
        }
      ]
    },
    {
      "cell_type": "code",
      "metadata": {
        "id": "A4uA7TkVgCsL",
        "outputId": "f95581dc-d30b-4472-fe35-7b58c9475d73",
        "colab": {
          "base_uri": "https://localhost:8080/",
          "height": 279
        }
      },
      "source": [
        "sns.histplot(data = dados['questao_2'],\n",
        "             x = 'Fisioterapia',\n",
        "             hue = 'Sequelas');"
      ],
      "execution_count": 40,
      "outputs": [
        {
          "output_type": "display_data",
          "data": {
            "image/png": "[encoded data removed]",
            "text/plain": [
              "<Figure size 432x288 with 1 Axes>"
            ]
          },
          "metadata": {
            "needs_background": "light"
          }
        }
      ]
    },
    {
      "cell_type": "code",
      "metadata": {
        "id": "xjpBjJ4UgT_w"
      },
      "source": [
        ""
      ],
      "execution_count": null,
      "outputs": []
    }
  ]
}