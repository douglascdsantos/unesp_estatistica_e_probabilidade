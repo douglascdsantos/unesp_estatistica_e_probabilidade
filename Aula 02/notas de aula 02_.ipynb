{
  "nbformat": 4,
  "nbformat_minor": 0,
  "metadata": {
    "colab": {
      "name": "Aula 2 .ipynb",
      "provenance": [],
      "authorship_tag": "ABX9TyMJA/5AWWPBeUOoK4QX6V+G",
      "include_colab_link": true
    },
    "kernelspec": {
      "name": "python3",
      "display_name": "Python 3"
    },
    "language_info": {
      "name": "python"
    }
  },
  "cells": [
    {
      "cell_type": "markdown",
      "metadata": {
        "id": "view-in-github",
        "colab_type": "text"
      },
      "source": [
        "<a href=\"https://colab.research.google.com/github/douglascdsantos/unesp_estatistica_e_probabilidade/blob/main/Aula%2002/notas%20de%20aula%2002_.ipynb\" target=\"_parent\"><img src=\"https://colab.research.google.com/assets/colab-badge.svg\" alt=\"Open In Colab\"/></a>"
      ]
    },
    {
      "cell_type": "markdown",
      "metadata": {
        "id": "S7-5SE38tVIj"
      },
      "source": [
        "# Organização dos dados\n",
        "- Qualitativa nominal: não indicam uma ordem\n",
        "- Qualitativa ordinal: indicam uma ordem \n",
        "- Quantitativa discreta: valores inteiro\n",
        "- Quantitativa continua: valores com parte decimal"
      ]
    },
    {
      "cell_type": "markdown",
      "metadata": {
        "id": "XDDKpYjmtb91"
      },
      "source": [
        "# Tabelas de frequência e gráficos"
      ]
    },
    {
      "cell_type": "markdown",
      "metadata": {
        "id": "WZ0CVhLItcEp"
      },
      "source": [
        "# Medidas de posição\n",
        "- média: ponto de equilibrio\n",
        "- moda: valor que mais aparece;\n",
        "- mediana: "
      ]
    },
    {
      "cell_type": "code",
      "metadata": {
        "colab": {
          "base_uri": "https://localhost:8080/"
        },
        "id": "ceBa4VYl0nnr",
        "outputId": "7d9da05d-432a-40e9-c872-68eda8aeef3b"
      },
      "source": [
        "import pandas as pd\n",
        "tempo = [39,29,43,52,39,44,40,31,44,35]\n",
        "se_arrumar_min = pd.Series(tempo)\n",
        "se_arrumar_min"
      ],
      "execution_count": 5,
      "outputs": [
        {
          "output_type": "execute_result",
          "data": {
            "text/plain": [
              "0    39\n",
              "1    29\n",
              "2    43\n",
              "3    52\n",
              "4    39\n",
              "5    44\n",
              "6    40\n",
              "7    31\n",
              "8    44\n",
              "9    35\n",
              "dtype: int64"
            ]
          },
          "metadata": {},
          "execution_count": 5
        }
      ]
    },
    {
      "cell_type": "markdown",
      "metadata": {
        "id": "_0vrEzYy1ifb"
      },
      "source": [
        "## média"
      ]
    },
    {
      "cell_type": "code",
      "metadata": {
        "colab": {
          "base_uri": "https://localhost:8080/"
        },
        "id": "BRKoYKdU1kUz",
        "outputId": "6a7365a5-b48b-4fba-bec7-663e66a47ebc"
      },
      "source": [
        "se_arrumar_min.mean()"
      ],
      "execution_count": 6,
      "outputs": [
        {
          "output_type": "execute_result",
          "data": {
            "text/plain": [
              "39.6"
            ]
          },
          "metadata": {},
          "execution_count": 6
        }
      ]
    },
    {
      "cell_type": "markdown",
      "metadata": {
        "id": "Ktz-FtKL1rFR"
      },
      "source": [
        "Se no 11º dia gastar 103 minutos"
      ]
    },
    {
      "cell_type": "code",
      "metadata": {
        "colab": {
          "base_uri": "https://localhost:8080/"
        },
        "id": "vmHRHfiw1sSK",
        "outputId": "102a22ff-3b63-44a5-f8b1-0147d061e213"
      },
      "source": [
        "tempo_2 = [39,29,43,52,39,44,40,31,44,35,103]\n",
        "se_arrumar_min_2 = pd.Series(tempo_2)\n",
        "se_arrumar_min_2.mean()"
      ],
      "execution_count": 8,
      "outputs": [
        {
          "output_type": "execute_result",
          "data": {
            "text/plain": [
              "45.36363636363637"
            ]
          },
          "metadata": {},
          "execution_count": 8
        }
      ]
    },
    {
      "cell_type": "markdown",
      "metadata": {
        "id": "H1PHSQ_i23pT"
      },
      "source": [
        "- A média é extremamente influênciavel pelos valores extremos;\n",
        "- É boa de ser utilizada para distribuições simetricas;\n",
        "- É aplicada para valores quantitativos."
      ]
    },
    {
      "cell_type": "markdown",
      "metadata": {
        "id": "0fMc8K4E3jMj"
      },
      "source": [
        "## Moda\n",
        "- nesse caso é bimodal pq tanto 39 e 44 se repetem 2 vezes."
      ]
    },
    {
      "cell_type": "code",
      "metadata": {
        "colab": {
          "base_uri": "https://localhost:8080/"
        },
        "id": "JmOJao9H2iCD",
        "outputId": "2d3d6052-d593-4f42-b061-d7b6295586ca"
      },
      "source": [
        "print(se_arrumar_min.mode())\n",
        "print(se_arrumar_min_2.mode())"
      ],
      "execution_count": 16,
      "outputs": [
        {
          "output_type": "stream",
          "name": "stdout",
          "text": [
            "0    39\n",
            "1    44\n",
            "dtype: int64\n",
            "0    39\n",
            "1    44\n",
            "dtype: int64\n"
          ]
        }
      ]
    },
    {
      "cell_type": "markdown",
      "metadata": {
        "id": "LTIF6o314jzz"
      },
      "source": [
        "## Mediana\n",
        "- é uma estatistica de posição, não sofre tanta influência por valores discrepantes.\n",
        "- é usada para distribuição simetrica."
      ]
    },
    {
      "cell_type": "code",
      "metadata": {
        "colab": {
          "base_uri": "https://localhost:8080/"
        },
        "id": "ljUmTeTl4mC6",
        "outputId": "31673faf-fb5a-4ae5-fab2-a06b4ffd8da0"
      },
      "source": [
        "print(se_arrumar_min.median())\n",
        "print(se_arrumar_min_2.median())"
      ],
      "execution_count": 13,
      "outputs": [
        {
          "output_type": "stream",
          "name": "stdout",
          "text": [
            "39.5\n",
            "40.0\n"
          ]
        }
      ]
    },
    {
      "cell_type": "code",
      "metadata": {
        "colab": {
          "base_uri": "https://localhost:8080/"
        },
        "id": "Mt9J8kld51jq",
        "outputId": "f56df269-265c-40b9-a283-6ce0d4102189"
      },
      "source": [
        "# colocando em ordem\n",
        "sorted(se_arrumar_min)"
      ],
      "execution_count": 15,
      "outputs": [
        {
          "output_type": "execute_result",
          "data": {
            "text/plain": [
              "[29, 31, 35, 39, 39, 40, 43, 44, 44, 52]"
            ]
          },
          "metadata": {},
          "execution_count": 15
        }
      ]
    },
    {
      "cell_type": "code",
      "metadata": {
        "colab": {
          "base_uri": "https://localhost:8080/"
        },
        "id": "TFHxFVq45OIT",
        "outputId": "d6ded779-cfc2-4b04-d12d-e8f9fcd82652"
      },
      "source": [
        "se_arrumar_min.describe()"
      ],
      "execution_count": 12,
      "outputs": [
        {
          "output_type": "execute_result",
          "data": {
            "text/plain": [
              "count    10.000000\n",
              "mean     39.600000\n",
              "std       6.769211\n",
              "min      29.000000\n",
              "25%      36.000000\n",
              "50%      39.500000\n",
              "75%      43.750000\n",
              "max      52.000000\n",
              "dtype: float64"
            ]
          },
          "metadata": {},
          "execution_count": 12
        }
      ]
    },
    {
      "cell_type": "code",
      "metadata": {
        "colab": {
          "base_uri": "https://localhost:8080/"
        },
        "id": "Eqb_0elx9GoE",
        "outputId": "37f16829-bb72-4938-88a7-508f86b1204a"
      },
      "source": [
        "pd.Series([2,5,6,8,9,9]).describe()"
      ],
      "execution_count": 19,
      "outputs": [
        {
          "output_type": "execute_result",
          "data": {
            "text/plain": [
              "count    6.000000\n",
              "mean     6.500000\n",
              "std      2.738613\n",
              "min      2.000000\n",
              "25%      5.250000\n",
              "50%      7.000000\n",
              "75%      8.750000\n",
              "max      9.000000\n",
              "dtype: float64"
            ]
          },
          "metadata": {},
          "execution_count": 19
        }
      ]
    },
    {
      "cell_type": "markdown",
      "metadata": {
        "id": "bO7-qCn7EiSj"
      },
      "source": [
        "## percentis"
      ]
    },
    {
      "cell_type": "markdown",
      "metadata": {
        "id": "1i5-HLITEkAD"
      },
      "source": [
        "percentil 95 e 99% é utilizado na ergonomia e biologia"
      ]
    },
    {
      "cell_type": "markdown",
      "metadata": {
        "id": "1RrvgFjCtcL4"
      },
      "source": [
        "# Medidas de dispersão"
      ]
    },
    {
      "cell_type": "markdown",
      "metadata": {
        "id": "1qXu7-mvFg5s"
      },
      "source": [
        "## Amplitude total\n",
        "maior valor - menor valor"
      ]
    },
    {
      "cell_type": "code",
      "metadata": {
        "colab": {
          "base_uri": "https://localhost:8080/"
        },
        "id": "TT7ccXSUFlz8",
        "outputId": "aa89f12b-4a87-4ad4-d0a7-ff2ac05816fd"
      },
      "source": [
        "se_arrumar_min.max() - se_arrumar_min.min()"
      ],
      "execution_count": 20,
      "outputs": [
        {
          "output_type": "execute_result",
          "data": {
            "text/plain": [
              "23"
            ]
          },
          "metadata": {},
          "execution_count": 20
        }
      ]
    },
    {
      "cell_type": "markdown",
      "metadata": {
        "id": "xXFa2vDmGSQc"
      },
      "source": [
        "## Variância e desvio padrão"
      ]
    },
    {
      "cell_type": "code",
      "metadata": {
        "colab": {
          "base_uri": "https://localhost:8080/"
        },
        "id": "Blz4m-ZlGcWE",
        "outputId": "d3a8f204-0193-4c7d-bcd9-39fc1c9c0cd9"
      },
      "source": [
        "se_arrumar_min.var()"
      ],
      "execution_count": 22,
      "outputs": [
        {
          "output_type": "execute_result",
          "data": {
            "text/plain": [
              "45.82222222222223"
            ]
          },
          "metadata": {},
          "execution_count": 22
        }
      ]
    },
    {
      "cell_type": "code",
      "metadata": {
        "colab": {
          "base_uri": "https://localhost:8080/"
        },
        "id": "j7bVSnOAGlc8",
        "outputId": "6f71efae-d578-44c1-da39-a9fa981c759b"
      },
      "source": [
        "se_arrumar_min.std()"
      ],
      "execution_count": 23,
      "outputs": [
        {
          "output_type": "execute_result",
          "data": {
            "text/plain": [
              "6.769211344183474"
            ]
          },
          "metadata": {},
          "execution_count": 23
        }
      ]
    },
    {
      "cell_type": "code",
      "metadata": {
        "colab": {
          "base_uri": "https://localhost:8080/"
        },
        "id": "RYf_S6rUJbxk",
        "outputId": "26d8efcf-c63c-4574-d374-726dfe3e4350"
      },
      "source": [
        "((se_arrumar_min - se_arrumar_min.mean())**2).sum()"
      ],
      "execution_count": 32,
      "outputs": [
        {
          "output_type": "execute_result",
          "data": {
            "text/plain": [
              "412.40000000000003"
            ]
          },
          "metadata": {},
          "execution_count": 32
        }
      ]
    },
    {
      "cell_type": "markdown",
      "metadata": {
        "id": "095MdH5DGcHT"
      },
      "source": [
        "## coeficiente de variação $CV = s/x$\n",
        "- quanto os dados estão dispersos da média\n",
        "- quem tiver maior cv possui maior variabilidade\n",
        "- quanto menor o cv mais homogeneos são os dados ()"
      ]
    },
    {
      "cell_type": "code",
      "metadata": {
        "colab": {
          "base_uri": "https://localhost:8080/"
        },
        "id": "PrPfrr4aMZ2E",
        "outputId": "a2a4284d-579d-4567-e28c-c2f2f955cfd5"
      },
      "source": [
        "20/175"
      ],
      "execution_count": 33,
      "outputs": [
        {
          "output_type": "execute_result",
          "data": {
            "text/plain": [
              "0.11428571428571428"
            ]
          },
          "metadata": {},
          "execution_count": 33
        }
      ]
    },
    {
      "cell_type": "markdown",
      "metadata": {
        "id": "uCBZpSfhtcRd"
      },
      "source": [
        "# Boxplot"
      ]
    },
    {
      "cell_type": "code",
      "metadata": {
        "colab": {
          "base_uri": "https://localhost:8080/",
          "height": 1000
        },
        "id": "w3O0IlO7tEL0",
        "outputId": "fc22e4b5-7a8e-49b1-b075-c89d396ad4fb"
      },
      "source": [
        "import seaborn as sns\n",
        "sns.set(rc={'figure.figsize':(5,12)})\n",
        "print(se_arrumar_min)\n",
        "print(se_arrumar_min.describe())\n",
        "sns.boxplot(y = se_arrumar_min);"
      ],
      "execution_count": 55,
      "outputs": [
        {
          "output_type": "stream",
          "name": "stdout",
          "text": [
            "0    39\n",
            "1    29\n",
            "2    43\n",
            "3    52\n",
            "4    39\n",
            "5    44\n",
            "6    40\n",
            "7    31\n",
            "8    44\n",
            "9    35\n",
            "dtype: int64\n",
            "count    10.000000\n",
            "mean     39.600000\n",
            "std       6.769211\n",
            "min      29.000000\n",
            "25%      36.000000\n",
            "50%      39.500000\n",
            "75%      43.750000\n",
            "max      52.000000\n",
            "dtype: float64\n"
          ]
        },
        {
          "output_type": "display_data",
          "data": {
            "image/png": "[encoded data removed]",
            "text/plain": [
              "<Figure size 360x864 with 1 Axes>"
            ]
          },
          "metadata": {}
        }
      ]
    },
    {
      "cell_type": "code",
      "metadata": {
        "colab": {
          "base_uri": "https://localhost:8080/",
          "height": 1000
        },
        "id": "Dm5muznTQGEv",
        "outputId": "4fdcde79-0c5e-4a2e-d3a4-2266d1e29bbc"
      },
      "source": [
        "print(se_arrumar_min_2)\n",
        "print(se_arrumar_min_2.describe())\n",
        "sns.boxplot(y = se_arrumar_min_2);"
      ],
      "execution_count": 56,
      "outputs": [
        {
          "output_type": "stream",
          "name": "stdout",
          "text": [
            "0      39\n",
            "1      29\n",
            "2      43\n",
            "3      52\n",
            "4      39\n",
            "5      44\n",
            "6      40\n",
            "7      31\n",
            "8      44\n",
            "9      35\n",
            "10    103\n",
            "dtype: int64\n",
            "count     11.000000\n",
            "mean      45.363636\n",
            "std       20.165677\n",
            "min       29.000000\n",
            "25%       37.000000\n",
            "50%       40.000000\n",
            "75%       44.000000\n",
            "max      103.000000\n",
            "dtype: float64\n"
          ]
        },
        {
          "output_type": "display_data",
          "data": {
            "image/png": "[encoded data removed]",
            "text/plain": [
              "<Figure size 360x864 with 1 Axes>"
            ]
          },
          "metadata": {}
        }
      ]
    },
    {
      "cell_type": "code",
      "metadata": {
        "id": "IObxwNIoRF0a"
      },
      "source": [
        ""
      ],
      "execution_count": null,
      "outputs": []
    }
  ]
}